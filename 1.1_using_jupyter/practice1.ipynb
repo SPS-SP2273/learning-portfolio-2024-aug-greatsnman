{
 "cells": [
  {
   "cell_type": "code",
   "execution_count": 1,
   "id": "34d8a223-2afe-4584-9a4b-ccd91702a066",
   "metadata": {},
   "outputs": [
    {
     "name": "stdout",
     "output_type": "stream",
     "text": [
      "Hello World\n"
     ]
    }
   ],
   "source": [
    "print(\"Hello World\")"
   ]
  },
  {
   "cell_type": "markdown",
   "id": "5435eab5-7847-4b71-a695-96278e6cc29a",
   "metadata": {},
   "source": [
    "The ships hung in the sky in much the same way that bricks don’t."
   ]
  },
  {
   "cell_type": "markdown",
   "id": "c7b8f59c-42b7-453f-a8d1-82bcdb5e16ef",
   "metadata": {},
   "source": [
    "The *ships* hung in the sky in much the same way that bricks don’t."
   ]
  },
  {
   "cell_type": "markdown",
   "id": "1eeaf005-04cc-4411-90d9-7a7aa275e68f",
   "metadata": {},
   "source": [
    "## The ships hung in the sky in much the same way that bricks don’t."
   ]
  },
  {
   "cell_type": "markdown",
   "id": "8c125140-a1b7-4ef3-b8cd-b442a3d622cd",
   "metadata": {},
   "source": [
    "print(\"Hello World\")"
   ]
  },
  {
   "cell_type": "markdown",
   "id": "40f88dda-5e2f-4c0a-932f-335992ee82d9",
   "metadata": {},
   "source": [
    "'print(\"HEllo WOrld\")'"
   ]
  },
  {
   "cell_type": "markdown",
   "id": "7f525e20-7e3f-46c6-859f-7e057ed87d1b",
   "metadata": {},
   "source": [
    "```python\n",
    "print('Hello World!')\n",
    "```"
   ]
  },
  {
   "cell_type": "markdown",
   "id": "41ea7b70-848b-4910-97b4-73fa331cb0d9",
   "metadata": {},
   "source": [
    "'print(\"hello world\")'"
   ]
  },
  {
   "cell_type": "markdown",
   "id": "0285f4cc-9cbd-411e-abe4-916bd2b5e1b2",
   "metadata": {},
   "source": [
    "[SP2273 Website](https://sps.nus.edu.sg/sp2273)"
   ]
  },
  {
   "cell_type": "markdown",
   "id": "aa6144d2-1d23-448f-8397-ae8fc716d66b",
   "metadata": {},
   "source": [
    "![](https://nus.edu.sg/images/default-source/base/logo.png)"
   ]
  },
  {
   "cell_type": "markdown",
   "id": "20af7bad-0b7d-4a67-8a83-5b9aa7c9ac40",
   "metadata": {},
   "source": [
    "![](https://letsenhance.io/static/73136da51c245e80edc6ccfe44888a99/1015f/MainBefore.jpg)"
   ]
  },
  {
   "cell_type": "markdown",
   "id": "2ac7c974-8735-4b64-aac9-98f1d3d46f0c",
   "metadata": {},
   "source": [
    "|Ab |bc |cd|\n",
    "|hh |jj |hh|"
   ]
  },
  {
   "cell_type": "markdown",
   "id": "302eaff4-4bee-4d4d-8f93-212ebc8dc4f3",
   "metadata": {},
   "source": [
    "| A    |  B   |    C |\n",
    "| ---: | :--: | :--- |\n",
    "| a1   |  b1  |   c1 |"
   ]
  },
  {
   "cell_type": "markdown",
   "id": "ccbbd5ac-7b2b-4884-92d3-a7c16830c572",
   "metadata": {},
   "source": [
    "|j |k |j |\n",
    "|:-|-:|-:|"
   ]
  },
  {
   "cell_type": "markdown",
   "id": "79528a24-d98d-4832-a20d-f71120ec87ab",
   "metadata": {},
   "source": [
    "1. Master Yoda\n",
    "1. Luke Skywalker\n",
    "1. Anakin Skywalker"
   ]
  },
  {
   "cell_type": "markdown",
   "id": "d504a5bd-cced-471b-8e0d-26cabc45193d",
   "metadata": {},
   "source": [
    "1. Hi\n",
    "2. Hello\n",
    "3. Hii"
   ]
  },
  {
   "cell_type": "markdown",
   "id": "14a42784-5c56-4909-97f3-dfd5b1723f02",
   "metadata": {},
   "source": [
    "$\\sqrt{456}+979$\n"
   ]
  },
  {
   "cell_type": "code",
   "execution_count": 5,
   "id": "6f511736-3853-4ffb-b827-cbcccd808bf0",
   "metadata": {},
   "outputs": [
    {
     "name": "stdout",
     "output_type": "stream",
     "text": [
      "C:\\Users\\Sri Naren the Great\\Documents\\GitHub\\learning-portfolio-2024-aug-greatsnman\\1.1_using_jupyter\n"
     ]
    }
   ],
   "source": [
    "!cd"
   ]
  },
  {
   "cell_type": "code",
   "execution_count": 6,
   "id": "f4555075-ce30-422d-8682-2f8ce946bb16",
   "metadata": {},
   "outputs": [
    {
     "name": "stderr",
     "output_type": "stream",
     "text": [
      "\n",
      "PackagesNotFoundError: The following packages are missing from the target environment:\n",
      "  - jupyter_contrib_nbextensions\n",
      "\n",
      "\n"
     ]
    }
   ],
   "source": [
    "!conda remove jupyter_contrib_nbextensions\n"
   ]
  },
  {
   "cell_type": "code",
   "execution_count": 1,
   "id": "bea9e740-28d9-4baf-bd18-723a962a010f",
   "metadata": {},
   "outputs": [
    {
     "name": "stdout",
     "output_type": "stream",
     "text": [
      "17.9 ns ± 0.287 ns per loop (mean ± std. dev. of 7 runs, 10,000,000 loops each)\n"
     ]
    }
   ],
   "source": [
    "%timeit x=10"
   ]
  },
  {
   "cell_type": "code",
   "execution_count": 3,
   "id": "250e02c5-857e-4d33-8af5-aec2e0287acf",
   "metadata": {},
   "outputs": [
    {
     "name": "stdout",
     "output_type": "stream",
     "text": [
      "Hello world\n"
     ]
    }
   ],
   "source": [
    "%timeit\n",
    "x=89\n",
    "h=67\n",
    "print(\"Hello world\")"
   ]
  },
  {
   "cell_type": "code",
   "execution_count": 6,
   "id": "0a83de0f-5992-44e7-93ae-f03337ed6887",
   "metadata": {},
   "outputs": [
    {
     "name": "stdout",
     "output_type": "stream",
     "text": [
      "23.1 ns ± 0.405 ns per loop (mean ± std. dev. of 7 runs, 10,000,000 loops each)\n"
     ]
    }
   ],
   "source": [
    "%%timeit\n",
    "x=89\n",
    "h=67\n",
    "\n"
   ]
  },
  {
   "cell_type": "code",
   "execution_count": 14,
   "id": "94dfc2f0-7563-44ac-b09d-7d220ab12622",
   "metadata": {},
   "outputs": [],
   "source": [
    "def visal(name,age):\n",
    "    if age<7:\n",
    "        return 'too yong'\n",
    "    else:\n",
    "        return \"welcome\""
   ]
  },
  {
   "cell_type": "code",
   "execution_count": 12,
   "id": "e64018c0-29d0-4455-9450-f12e457d28ab",
   "metadata": {},
   "outputs": [
    {
     "data": {
      "text/plain": [
       "'too yong'"
      ]
     },
     "execution_count": 12,
     "metadata": {},
     "output_type": "execute_result"
    }
   ],
   "source": [
    "visal(\"visal\",5)"
   ]
  },
  {
   "cell_type": "code",
   "execution_count": 9,
   "id": "9132f5cf-d836-408a-b064-9ab5a275a551",
   "metadata": {},
   "outputs": [
    {
     "data": {
      "text/plain": [
       "'welcome'"
      ]
     },
     "execution_count": 9,
     "metadata": {},
     "output_type": "execute_result"
    }
   ],
   "source": [
    "visal(\"visal\",99)"
   ]
  },
  {
   "cell_type": "code",
   "execution_count": 17,
   "id": "c078614f-a47f-477b-91b9-e048df7a7f6d",
   "metadata": {},
   "outputs": [
    {
     "name": "stdout",
     "output_type": "stream",
     "text": [
      "great naren\n"
     ]
    }
   ],
   "source": [
    "name = 'naren'\n",
    "if name == 'naren':\n",
    "    print(\"great naren\")\n"
   ]
  },
  {
   "cell_type": "code",
   "execution_count": 19,
   "id": "59376a4a-b8a6-46f9-bde7-cbd4a2815d16",
   "metadata": {},
   "outputs": [
    {
     "name": "stdout",
     "output_type": "stream",
     "text": [
      "not so great\n"
     ]
    }
   ],
   "source": [
    "name =  \"naren\"\n",
    "dumb = \"visal\"\n",
    "name = dumb\n",
    "if name ==\"naren\":\n",
    "    print(\"great one\")\n",
    "elif name == \"visal\":\n",
    "    print(\"not so great\")\n"
   ]
  },
  {
   "cell_type": "code",
   "execution_count": 24,
   "id": "3e6f5c49-885f-4934-8865-d1c86bf16028",
   "metadata": {},
   "outputs": [
    {
     "name": "stdout",
     "output_type": "stream",
     "text": [
      "[[1, 'Naren'], [2, 'naren2'], [3, 'greatestnaren']]\n",
      "['einstein', 'hari', 'visal']\n"
     ]
    }
   ],
   "source": [
    "list_great_people = [ \"einstein\", \"hari\", \"visal\"] #format for list\n",
    "list_greater_people = [ \n",
    "                            [1,\"Naren\"],\n",
    "                            [2,\"naren2\"],\n",
    "                            [3,\"greatestnaren\"]\n",
    "]\n",
    "print (list_greater_people)\n",
    "print(list_great_people)"
   ]
  },
  {
   "cell_type": "code",
   "execution_count": 31,
   "id": "9330d179-f26a-4576-8862-410c522fdecb",
   "metadata": {},
   "outputs": [
    {
     "ename": "TypeError",
     "evalue": "string indices must be integers, not 'str'",
     "output_type": "error",
     "traceback": [
      "\u001b[1;31m---------------------------------------------------------------------------\u001b[0m",
      "\u001b[1;31mTypeError\u001b[0m                                 Traceback (most recent call last)",
      "Cell \u001b[1;32mIn[31], line 6\u001b[0m\n\u001b[0;32m      1\u001b[0m personal_info \u001b[38;5;241m=\u001b[39m {\n\u001b[0;32m      2\u001b[0m     \u001b[38;5;124m'\u001b[39m\u001b[38;5;124mname\u001b[39m\u001b[38;5;124m'\u001b[39m : \u001b[38;5;124m'\u001b[39m\u001b[38;5;124mnaren\u001b[39m\u001b[38;5;124m'\u001b[39m ,\n\u001b[0;32m      3\u001b[0m     \u001b[38;5;124m'\u001b[39m\u001b[38;5;124mage\u001b[39m\u001b[38;5;124m'\u001b[39m : \u001b[38;5;241m21\u001b[39m ,\n\u001b[0;32m      4\u001b[0m     \u001b[38;5;124m'\u001b[39m\u001b[38;5;124muni\u001b[39m\u001b[38;5;124m'\u001b[39m : \u001b[38;5;124m'\u001b[39m\u001b[38;5;124mnus\u001b[39m\u001b[38;5;124m'\u001b[39m,\n\u001b[0;32m      5\u001b[0m }\n\u001b[1;32m----> 6\u001b[0m \u001b[38;5;28mprint\u001b[39m (\u001b[43mpersonal_info\u001b[49m\u001b[43m \u001b[49m\u001b[43m[\u001b[49m\u001b[38;5;124;43m'\u001b[39;49m\u001b[38;5;124;43mname\u001b[39;49m\u001b[38;5;124;43m'\u001b[39;49m\u001b[43m]\u001b[49m\n\u001b[0;32m      7\u001b[0m \u001b[43m       \u001b[49m\u001b[43m[\u001b[49m\u001b[38;5;124;43m'\u001b[39;49m\u001b[38;5;124;43mage\u001b[39;49m\u001b[38;5;124;43m'\u001b[39;49m\u001b[43m]\u001b[49m)\n",
      "\u001b[1;31mTypeError\u001b[0m: string indices must be integers, not 'str'"
     ]
    }
   ],
   "source": [
    "personal_info = {\n",
    "    'name' : 'naren' ,\n",
    "    'age' : 21 ,\n",
    "    'uni' : 'nus',\n",
    "}\n",
    "print (personal_info ['name']['age'])"
   ]
  },
  {
   "cell_type": "code",
   "execution_count": 32,
   "id": "195e8e0c-eb75-4550-9f0b-018aba7f3234",
   "metadata": {},
   "outputs": [],
   "source": [
    "import math as meth\n",
    "import numpy as np"
   ]
  },
  {
   "cell_type": "code",
   "execution_count": 33,
   "id": "ff14534d-2b6b-4fe4-b177-bc7e5bc77458",
   "metadata": {},
   "outputs": [
    {
     "data": {
      "text/plain": [
       "np.float64(3.0)"
      ]
     },
     "execution_count": 33,
     "metadata": {},
     "output_type": "execute_result"
    }
   ],
   "source": [
    "np.sqrt(9)"
   ]
  },
  {
   "cell_type": "markdown",
   "id": "3177d969-552e-478f-83db-099af1587a66",
   "metadata": {},
   "source": [
    "function\n",
    "print\n",
    "add\n",
    "list\n",
    "math funtions\n",
    "# importing packages\n",
    "storage information varible thing ( forgot name) \n",
    "# above is called a dictionary need {}\n",
    "image display\n",
    "variable\n",
    "# things i forgot to list from memory\n",
    "# comments\n",
    "# difference betwwen = assign and == check if value is eqaul\n",
    "# if statements\n",
    "# indentation sensitivity of python\n",
    "# string vs variable"
   ]
  },
  {
   "cell_type": "code",
   "execution_count": 35,
   "id": "552117e3-e50c-4c5e-851f-4e28d68f69f0",
   "metadata": {},
   "outputs": [
    {
     "ename": "IndentationError",
     "evalue": "unindent does not match any outer indentation level (<string>, line 3)",
     "output_type": "error",
     "traceback": [
      "\u001b[1;36m  File \u001b[1;32m<string>:3\u001b[1;36m\u001b[0m\n\u001b[1;33m    Print(x, y, z)\u001b[0m\n\u001b[1;37m                  ^\u001b[0m\n\u001b[1;31mIndentationError\u001b[0m\u001b[1;31m:\u001b[0m unindent does not match any outer indentation level\n"
     ]
    }
   ],
   "source": [
    "x, y = 3, 4\n",
    "        z = sqrt(x*2 + y**2) # indent wrong also the * usage wrong\n",
    "    Print(x, y, z) # capital p is wrong and indentation is wrong"
   ]
  },
  {
   "cell_type": "code",
   "execution_count": 43,
   "id": "50c0afe6-6ffc-4f8f-a143-ce883c3afffb",
   "metadata": {},
   "outputs": [
    {
     "name": "stdout",
     "output_type": "stream",
     "text": [
      "3 4 5.0\n"
     ]
    }
   ],
   "source": [
    "x, y = 3,4\n",
    "z = meth.sqrt(x**2 + y**2)\n",
    "print(x, y, z)"
   ]
  },
  {
   "cell_type": "markdown",
   "id": "bfcb0ee5-40cf-48dc-a93a-47179d0ebe0f",
   "metadata": {},
   "source": [
    "# \tTerm \t              Description\n",
    "1 \tFunction \t          input a variable into the function and it performs an action based on it and returns a result\n",
    "2 \tArguments \t          check if input matches with another input or predetermined variable/value and return a result that varies\n",
    "3 \tComments \t          insert text into code that isnt run so you can put notes,mark something or do whatever\n",
    "4 \tIndentations \t      denote position of statement in code, if its part of function or seperate code\n",
    "5 \tPackages \t          list of preprogrammed functions you can \n",
    "6 \t. \t                  denotes you are calling function from a package\n",
    "7 \t: \t                  denotes postion of items in list or indicates it is in a function\n",
    "8 \t[] \t                  use this in a list\n",
    "9 \t[[],[]] \t          format for a 1d list\n",
    "10 \t{}                    define directory"
   ]
  },
  {
   "cell_type": "code",
   "execution_count": 52,
   "id": "4c13f01d-9234-4cc5-ae8d-6776816f5e20",
   "metadata": {},
   "outputs": [
    {
     "name": "stdout",
     "output_type": "stream",
     "text": [
      "2.5 2 0.3999999999999999\n"
     ]
    }
   ],
   "source": [
    "x,y,z = 5/2 , 5//2 , 2.4%2 # first one is float(got decimal) division, second is integer division(decimal is gone)\n",
    "# % is modulo function which  return the remainder after divison to lowest possible value\n",
    "print(x,y,z)"
   ]
  },
  {
   "cell_type": "code",
   "execution_count": 53,
   "id": "e01ca541-84ee-4409-9a43-a6f892d2aaf4",
   "metadata": {},
   "outputs": [
    {
     "name": "stdout",
     "output_type": "stream",
     "text": [
      "1 1.5 1.8 1.9 0.2999999999999998\n"
     ]
    }
   ],
   "source": [
    "x,y,z,m,n = 1%2, 1.5%2, 1.8 %2, 1.9%2, 2.3%2\n",
    "print (x,y,z,m,n)"
   ]
  },
  {
   "cell_type": "code",
   "execution_count": 54,
   "id": "0be78ba8-2a0e-46c2-9d3a-5bf49d30d61e",
   "metadata": {},
   "outputs": [
    {
     "name": "stdout",
     "output_type": "stream",
     "text": [
      "0.10000000000000009 0.20000000000000018 1.4 0.20000000000000018 1.0999999999999996\n"
     ]
    }
   ],
   "source": [
    "x,y,z,m,n = 2.1%2, 2.2%2,  3.4%2, 4.2%2, 5.1%2\n",
    "print (x,y,z,m,n)"
   ]
  },
  {
   "cell_type": "code",
   "execution_count": 55,
   "id": "36ff5de6-a997-499b-9092-09e09f9aa29c",
   "metadata": {},
   "outputs": [
    {
     "name": "stdout",
     "output_type": "stream",
     "text": [
      "1 0.09999999999999964 0.20000000000000018 0.5999999999999996 1.2000000000000002\n"
     ]
    }
   ],
   "source": [
    "x,y,z,m,n = 5%2, 6.1%2,  6.2%2, 4.6%2, 5.2%2\n",
    "print (x,y,z,m,n)"
   ]
  },
  {
   "cell_type": "code",
   "execution_count": null,
   "id": "b9dfcf5c-d53a-41be-a50c-5c21258a4ddf",
   "metadata": {},
   "outputs": [],
   "source": []
  }
 ],
 "metadata": {
  "kernelspec": {
   "display_name": "Python 3 (ipykernel)",
   "language": "python",
   "name": "python3"
  },
  "language_info": {
   "codemirror_mode": {
    "name": "ipython",
    "version": 3
   },
   "file_extension": ".py",
   "mimetype": "text/x-python",
   "name": "python",
   "nbconvert_exporter": "python",
   "pygments_lexer": "ipython3",
   "version": "3.12.3"
  }
 },
 "nbformat": 4,
 "nbformat_minor": 5
}
