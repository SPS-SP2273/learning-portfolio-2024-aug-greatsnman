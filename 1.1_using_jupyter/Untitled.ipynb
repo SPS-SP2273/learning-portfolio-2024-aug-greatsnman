{
 "cells": [
  {
   "cell_type": "code",
   "execution_count": 1,
   "id": "34d8a223-2afe-4584-9a4b-ccd91702a066",
   "metadata": {},
   "outputs": [
    {
     "name": "stdout",
     "output_type": "stream",
     "text": [
      "Hello World\n"
     ]
    }
   ],
   "source": [
    "print(\"Hello World\")"
   ]
  },
  {
   "cell_type": "markdown",
   "id": "5435eab5-7847-4b71-a695-96278e6cc29a",
   "metadata": {},
   "source": [
    "The ships hung in the sky in much the same way that bricks don’t."
   ]
  },
  {
   "cell_type": "markdown",
   "id": "c7b8f59c-42b7-453f-a8d1-82bcdb5e16ef",
   "metadata": {},
   "source": [
    "The *ships* hung in the sky in much the same way that bricks don’t."
   ]
  },
  {
   "cell_type": "markdown",
   "id": "1eeaf005-04cc-4411-90d9-7a7aa275e68f",
   "metadata": {},
   "source": [
    "## The ships hung in the sky in much the same way that bricks don’t."
   ]
  },
  {
   "cell_type": "markdown",
   "id": "8c125140-a1b7-4ef3-b8cd-b442a3d622cd",
   "metadata": {},
   "source": [
    "print(\"Hello World\")"
   ]
  },
  {
   "cell_type": "markdown",
   "id": "40f88dda-5e2f-4c0a-932f-335992ee82d9",
   "metadata": {},
   "source": [
    "'print(\"HEllo WOrld\")'"
   ]
  },
  {
   "cell_type": "markdown",
   "id": "7f525e20-7e3f-46c6-859f-7e057ed87d1b",
   "metadata": {},
   "source": [
    "```python\n",
    "print('Hello World!')\n",
    "```"
   ]
  },
  {
   "cell_type": "markdown",
   "id": "41ea7b70-848b-4910-97b4-73fa331cb0d9",
   "metadata": {},
   "source": [
    "'print(\"hello world\")'"
   ]
  },
  {
   "cell_type": "markdown",
   "id": "0285f4cc-9cbd-411e-abe4-916bd2b5e1b2",
   "metadata": {},
   "source": [
    "[SP2273 Website](https://sps.nus.edu.sg/sp2273)"
   ]
  },
  {
   "cell_type": "markdown",
   "id": "aa6144d2-1d23-448f-8397-ae8fc716d66b",
   "metadata": {},
   "source": [
    "![](https://nus.edu.sg/images/default-source/base/logo.png)"
   ]
  },
  {
   "cell_type": "markdown",
   "id": "20af7bad-0b7d-4a67-8a83-5b9aa7c9ac40",
   "metadata": {},
   "source": [
    "![](https://letsenhance.io/static/73136da51c245e80edc6ccfe44888a99/1015f/MainBefore.jpg)"
   ]
  },
  {
   "cell_type": "markdown",
   "id": "2ac7c974-8735-4b64-aac9-98f1d3d46f0c",
   "metadata": {},
   "source": [
    "|Ab |bc |cd|\n",
    "|hh |jj |hh|"
   ]
  },
  {
   "cell_type": "markdown",
   "id": "302eaff4-4bee-4d4d-8f93-212ebc8dc4f3",
   "metadata": {},
   "source": [
    "| A    |  B   |    C |\n",
    "| ---: | :--: | :--- |\n",
    "| a1   |  b1  |   c1 |"
   ]
  },
  {
   "cell_type": "markdown",
   "id": "ccbbd5ac-7b2b-4884-92d3-a7c16830c572",
   "metadata": {},
   "source": [
    "|j |k |j |\n",
    "|:-|-:|-:|"
   ]
  },
  {
   "cell_type": "markdown",
   "id": "79528a24-d98d-4832-a20d-f71120ec87ab",
   "metadata": {},
   "source": [
    "1. Master Yoda\n",
    "1. Luke Skywalker\n",
    "1. Anakin Skywalker"
   ]
  },
  {
   "cell_type": "markdown",
   "id": "d504a5bd-cced-471b-8e0d-26cabc45193d",
   "metadata": {},
   "source": [
    "1. Hi\n",
    "2. Hello\n",
    "3. Hii"
   ]
  },
  {
   "cell_type": "markdown",
   "id": "14a42784-5c56-4909-97f3-dfd5b1723f02",
   "metadata": {},
   "source": [
    "$\\sqrt{456}+979$\n"
   ]
  },
  {
   "cell_type": "code",
   "execution_count": null,
   "id": "6f511736-3853-4ffb-b827-cbcccd808bf0",
   "metadata": {},
   "outputs": [],
   "source": []
  }
 ],
 "metadata": {
  "kernelspec": {
   "display_name": "Python 3 (ipykernel)",
   "language": "python",
   "name": "python3"
  },
  "language_info": {
   "codemirror_mode": {
    "name": "ipython",
    "version": 3
   },
   "file_extension": ".py",
   "mimetype": "text/x-python",
   "name": "python",
   "nbconvert_exporter": "python",
   "pygments_lexer": "ipython3",
   "version": "3.12.3"
  }
 },
 "nbformat": 4,
 "nbformat_minor": 5
}
