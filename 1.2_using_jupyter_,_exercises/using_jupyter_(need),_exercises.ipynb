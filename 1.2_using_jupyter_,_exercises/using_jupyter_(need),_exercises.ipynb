{
 "cells": [
  {
   "attachments": {},
   "cell_type": "markdown",
   "id": "123456",
   "metadata": {},
   "source": [
    "<div style=\"text-align:left;font-size:2em\"><span style=\"font-weight:bolder;font-size:1.25em\">SP2273 | Learning Portfolio</span><br><br><span style=\"font-weight:bold;color:darkred\">Using Jupyter (Need), Exercises</span></div>"
   ]
  },
  {
   "attachments": {},
   "cell_type": "markdown",
   "id": "7eafabae",
   "metadata": {},
   "source": [
    "## 1 Quadratic Equations"
   ]
  },
  {
   "attachments": {},
   "cell_type": "markdown",
   "id": "54714ec7",
   "metadata": {},
   "source": [
    "### Introduction"
   ]
  },
  {
   "cell_type": "markdown",
   "id": "03014ea8-ca39-4d88-8082-58af64aeb3dd",
   "metadata": {},
   "source": [
    "\n",
    "# Your code here\n",
    "\n",
    "![](https://upload.wikimedia.org/wikipedia/commons/f/f8/Polynomialdeg2.svg)\n",
    "\n",
    "*Image from the ([Wikipedia page on Quadractic Equation](https://en.wikipedia.org/wiki/Quadratic_equation))*\n",
    "\n",
    "The general form of a Quadractic Equation is:\n",
    "\n",
    "$$ ax^{2} + bx + c = 0 $$\n",
    "\n"
   ]
  },
  {
   "attachments": {},
   "cell_type": "markdown",
   "id": "a1f69d4d",
   "metadata": {},
   "source": [
    "### Solutions"
   ]
  },
  {
   "cell_type": "markdown",
   "id": "3fb6cf03-a1fe-44a1-abd3-cf8e6ae2fa77",
   "metadata": {},
   "source": [
    "\n",
    "# Your code here\n",
    "Provided $a\\ne 0$, we can use an elementary algebraic method called [completing the square](https://en.wikipedia.org/wiki/Completing_the_square) to show that a quadractic equation has the following solution:\n",
    "$$ x = \\dfrac{-b \\pm \\sqrt{b^2-4ac}}{2a} $$"
   ]
  },
  {
   "attachments": {},
   "cell_type": "markdown",
   "id": "7aba7747",
   "metadata": {},
   "source": [
    "### Discriminant"
   ]
  },
  {
   "cell_type": "markdown",
   "id": "28be3162-60c0-4dcc-982f-04c85c98e175",
   "metadata": {},
   "source": [
    "\n",
    "# Your code here\n",
    "The quantity $ \\Delta=b^2 -4ac$ is called the **discriminant** of the equation and decides the nature of its solutions. The table below shows the various possibilities.\n",
    "\n",
    "|**Discriminant**|**Roots**| \n",
    "|:-|:-|\n",
    "|$ \\Delta=b^2 -4ac =0$|A single solution of $-b/(2a)$|\n",
    "|$ \\Delta=b^2 -4ac >0$|Two distinct solutions|\n",
    "|$ \\Delta=b^2 -4ac <0$|No real solutions;both are complex|"
   ]
  },
  {
   "cell_type": "markdown",
   "id": "2b42ab93-9cac-4a8a-999d-f8dfb14a0bfa",
   "metadata": {},
   "source": [
    "\n",
    "\n",
    "Exercise 2 (In Your Own Words) In your own words, use a Markdown cell to answer the following question.\n",
    "\n",
    "If you are unsure of the answer, please first consult with an instructor or a friend. Only then should you use the internet for additional information\n",
    "\n",
    "1. What is a Git repository? It is the cloub storage where github has all the files backed up.\n",
    "3. Git keeps tracks of ____BLANK____ in the files in our repository.\n",
    "   It keeps track of the changes made to the code in our jupyter notebook\n",
    "5. What is a commit?\n",
    "   It is when ou save what is in the jupyter file to the local system.\n",
    "7. What is a push?\n",
    "   It when the jupyter file is saved to the cloud.\n",
    "9. What is a pull?\n",
    "    When you retirve the new/modified version of the file from the cloud and overwrite your current version. \n",
    "11. What is the difference between GitHub and GitHub Desktop?\n",
    "    Github is the cloud and where the changes are saved and stored while the desktop is the local copy.\n",
    "\n"
   ]
  },
  {
   "cell_type": "markdown",
   "id": "07eefabf-6c3a-4735-ad36-110ea009dc3f",
   "metadata": {},
   "source": [
    "Exercise 3"
   ]
  },
  {
   "cell_type": "markdown",
   "id": "a3eb5428-33ac-491c-b54e-0c46c4883219",
   "metadata": {},
   "source": [
    "$\\micro = \\dfrac{1}{n}\\sum_{i=1}^{n} x_i$"
   ]
  },
  {
   "cell_type": "markdown",
   "id": "8f6bb819-f66c-4a27-8969-42b41a0fb0b4",
   "metadata": {},
   "source": [
    "$\\sigma= \\sqrt{ \\dfrac{1}{n}\\sum_{i=1}^{n}{(x_{i}-\\micro)^2}}$"
   ]
  },
  {
   "cell_type": "markdown",
   "id": "bae62f37-2ff1-4785-b56d-af697d1502a5",
   "metadata": {},
   "source": [
    "$r=\\dfrac{ sum_{i=1}^{n}{{(x_{i}-\\micro_{x})(y_{i}-\\micro_{y})}}}{{\\sqrt{\\sum_{i=1}^{n}{(x_{i}-\\micro_{x)^2}}\\sum_{i=1}^{n}{(y_{i}-\\micro_{y})^2}}}}$"
   ]
  }
 ],
 "metadata": {
  "kernelspec": {
   "display_name": "Python 3 (ipykernel)",
   "language": "python",
   "name": "python3"
  },
  "language_info": {
   "codemirror_mode": {
    "name": "ipython",
    "version": 3
   },
   "file_extension": ".py",
   "mimetype": "text/x-python",
   "name": "python",
   "nbconvert_exporter": "python",
   "pygments_lexer": "ipython3",
   "version": "3.12.3"
  },
  "toc": {
   "base_numbering": 1,
   "nav_menu": {},
   "number_sections": true,
   "sideBar": true,
   "skip_h1_title": false,
   "title_cell": "Table of Contents",
   "title_sidebar": "Contents",
   "toc_cell": false,
   "toc_position": {},
   "toc_section_display": true,
   "toc_window_display": false
  },
  "vscode": {
   "interpreter": {
    "hash": "31f2aee4e71d21fbe5cf8b01ff0e069b9275f58929596ceb00d14d90e3e16cd6"
   }
  }
 },
 "nbformat": 4,
 "nbformat_minor": 5
}
