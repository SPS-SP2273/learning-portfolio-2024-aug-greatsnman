{
 "cells": [
  {
   "attachments": {},
   "cell_type": "markdown",
   "id": "123456",
   "metadata": {},
   "source": [
    "<div style=\"text-align:left;font-size:2em\"><span style=\"font-weight:bolder;font-size:1.25em\">SP2273 | Learning Portfolio</span><br><br><span style=\"font-weight:bold;color:darkred\">Using Jupyter (Need), Exercises</span></div>"
   ]
  },
  {
   "attachments": {},
   "cell_type": "markdown",
   "id": "7eafabae",
   "metadata": {},
   "source": [
    "## 1 Quadratic Equations"
   ]
  },
  {
   "attachments": {},
   "cell_type": "markdown",
   "id": "54714ec7",
   "metadata": {},
   "source": [
    "### Introduction"
   ]
  },
  {
   "cell_type": "markdown",
   "id": "03014ea8-ca39-4d88-8082-58af64aeb3dd",
   "metadata": {},
   "source": [
    "\n",
    "# Your code here\n",
    "\n",
    "![](https://upload.wikimedia.org/wikipedia/commons/f/f8/Polynomialdeg2.svg)\n",
    "\n",
    "image from the [Wikipedia page on Quadractic Equation](https://en.wikipedia.org/wiki/Quadratic_equation)\n",
    "\n",
    "The general form of a Quadractic Equation is:\n",
    "\n",
    "$$ ax^{2} + bx + c = 0 $$\n",
    "\n"
   ]
  },
  {
   "attachments": {},
   "cell_type": "markdown",
   "id": "a1f69d4d",
   "metadata": {},
   "source": [
    "### Solutions"
   ]
  },
  {
   "cell_type": "markdown",
   "id": "3fb6cf03-a1fe-44a1-abd3-cf8e6ae2fa77",
   "metadata": {},
   "source": [
    "\n",
    "# Your code here\n",
    "Provided $a\\ne 0$, we can use an elementary algebraic method called [completing the square](https://en.wikipedia.org/wiki/Completing_the_square) to show that a quadractic equation has the following solution:\n",
    "$$ x = \\dfrac{-b \\pm \\sqrt{b^2-4ac}}{2a} $$"
   ]
  },
  {
   "attachments": {},
   "cell_type": "markdown",
   "id": "7aba7747",
   "metadata": {},
   "source": [
    "### Discriminant"
   ]
  },
  {
   "cell_type": "markdown",
   "id": "28be3162-60c0-4dcc-982f-04c85c98e175",
   "metadata": {},
   "source": [
    "\n",
    "# Your code here\n",
    "The quantity $ \\Delta=b^2 -4ac$ is called the **discriminant** of the equation and decides the nature of its solutions. The table below shows the various possibilities.\n",
    "\n",
    "|**Discriminant**|**Roots**| \n",
    "|:-|:-|\n",
    "|$ \\Delta=b^2 -4ac =0$|A single solution of $-b/(2a)$|\n",
    "|$ \\Delta=b^2 -4ac >0$|Two distinct solutions|\n",
    "|$ \\Delta=b^2 -4ac <0$|No real solutions;both are complex|"
   ]
  },
  {
   "cell_type": "markdown",
   "id": "2b42ab93-9cac-4a8a-999d-f8dfb14a0bfa",
   "metadata": {},
   "source": [
    "\n",
    "\n",
    "Exercise 2 (In Your Own Words) In your own words, use a Markdown cell to answer the following question.\n",
    "\n",
    "If you are unsure of the answer, please first consult with an instructor or a friend. Only then should you use the internet for additional information\n",
    "\n",
    "1. What is a Git repository?\n",
    "   It is the \n",
    "3. Git keeps tracks of ____BLANK____ in the files in our repository.\n",
    "4. What is a commit?\n",
    "5. What is a push?\n",
    "6. What is a pull?\n",
    "7. What is the difference between GitHub and GitHub Desktop?\n",
    "\n"
   ]
  },
  {
   "cell_type": "code",
   "execution_count": null,
   "id": "7caf63b7-3aca-4cd8-a42c-d6e3930e674b",
   "metadata": {},
   "outputs": [],
   "source": []
  },
  {
   "cell_type": "code",
   "execution_count": null,
   "id": "bddb07e0-0926-4226-813b-3d3413fd9b01",
   "metadata": {},
   "outputs": [],
   "source": []
  },
  {
   "cell_type": "code",
   "execution_count": null,
   "id": "6b677174-aa76-41cc-b1a7-2cd1db88d07f",
   "metadata": {},
   "outputs": [],
   "source": []
  },
  {
   "cell_type": "code",
   "execution_count": null,
   "id": "385cf987-9a6a-483c-923b-5f14bf458fc1",
   "metadata": {},
   "outputs": [],
   "source": []
  },
  {
   "cell_type": "code",
   "execution_count": null,
   "id": "b68fd3f5-255e-4c86-8b5a-30a85960fe05",
   "metadata": {},
   "outputs": [],
   "source": []
  },
  {
   "cell_type": "code",
   "execution_count": null,
   "id": "3df77363-97c1-4522-bc5a-4f8acd41ccef",
   "metadata": {},
   "outputs": [],
   "source": []
  },
  {
   "cell_type": "code",
   "execution_count": null,
   "id": "fd34f4fe-44b6-4902-8c7d-ae40fb003771",
   "metadata": {},
   "outputs": [],
   "source": []
  },
  {
   "cell_type": "code",
   "execution_count": null,
   "id": "5e48f082-e4b5-4657-880d-fce55ae4f78c",
   "metadata": {},
   "outputs": [],
   "source": []
  },
  {
   "cell_type": "code",
   "execution_count": null,
   "id": "9ecdd3b9-ec27-4a8d-8447-bb73fb98d6d3",
   "metadata": {},
   "outputs": [],
   "source": []
  }
 ],
 "metadata": {
  "kernelspec": {
   "display_name": "Python 3 (ipykernel)",
   "language": "python",
   "name": "python3"
  },
  "language_info": {
   "codemirror_mode": {
    "name": "ipython",
    "version": 3
   },
   "file_extension": ".py",
   "mimetype": "text/x-python",
   "name": "python",
   "nbconvert_exporter": "python",
   "pygments_lexer": "ipython3",
   "version": "3.12.3"
  },
  "toc": {
   "base_numbering": 1,
   "nav_menu": {},
   "number_sections": true,
   "sideBar": true,
   "skip_h1_title": false,
   "title_cell": "Table of Contents",
   "title_sidebar": "Contents",
   "toc_cell": false,
   "toc_position": {},
   "toc_section_display": true,
   "toc_window_display": false
  },
  "vscode": {
   "interpreter": {
    "hash": "31f2aee4e71d21fbe5cf8b01ff0e069b9275f58929596ceb00d14d90e3e16cd6"
   }
  }
 },
 "nbformat": 4,
 "nbformat_minor": 5
}
