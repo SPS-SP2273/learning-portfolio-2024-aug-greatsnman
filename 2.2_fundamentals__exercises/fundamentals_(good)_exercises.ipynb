{
 "cells": [
  {
   "attachments": {},
   "cell_type": "markdown",
   "id": "123456",
   "metadata": {},
   "source": [
    "<div style=\"text-align:left;font-size:2em\"><span style=\"font-weight:bolder;font-size:1.25em\">SP2273 | Learning Portfolio</span><br><br><span style=\"font-weight:bold;color:darkred\">Fundamentals (Good) Exercises</span></div>"
   ]
  },
  {
   "cell_type": "code",
   "execution_count": 10,
   "id": "4f592c2b-42ea-40df-84f1-06e8483cbe05",
   "metadata": {},
   "outputs": [
    {
     "name": "stdin",
     "output_type": "stream",
     "text": [
      "Please provide me with a number? 5\n"
     ]
    },
    {
     "name": "stdout",
     "output_type": "stream",
     "text": [
      "You entered 5\n"
     ]
    }
   ],
   "source": [
    "user_input = input('Please provide me with a number?')\n",
    "print('You entered', user_input)"
   ]
  },
  {
   "cell_type": "code",
   "execution_count": null,
   "id": "265a2452-75e5-4773-8ced-933b14cce736",
   "metadata": {},
   "outputs": [],
   "source": [
    "task 1\n",
    "\n",
    "Ask for the name of the user and then print out the greeting:\n",
    "\n",
    "“How you doin NAME!”\n",
    "\n",
    "I realise that most of you are far too young to recognise this reference; so see here\n"
   ]
  },
  {
   "cell_type": "code",
   "execution_count": 19,
   "id": "15796573-2c7c-4f2b-974e-d65fcb27df1e",
   "metadata": {},
   "outputs": [
    {
     "name": "stdin",
     "output_type": "stream",
     "text": [
      "State your name jj\n"
     ]
    },
    {
     "name": "stdout",
     "output_type": "stream",
     "text": [
      " \"How you doin JJ!\"\n"
     ]
    }
   ],
   "source": [
    "user_input = input('State your name')\n",
    "name = user_input.upper()\n",
    "greeting = \"How you doin \" + name + \"!\"\n",
    "print (f' \"{greeting}\"')"
   ]
  },
  {
   "cell_type": "code",
   "execution_count": null,
   "id": "adde65e5-a0cd-48ee-86ca-7c15467198f5",
   "metadata": {},
   "outputs": [],
   "source": [
    "task 2\n",
    "\n",
    "\n",
    "Ask for the name of the user, then ask for the age of the user and print out the introduction:\n",
    "\n",
    "“My name is NAME and I am AGE years old.”\n"
   ]
  },
  {
   "cell_type": "code",
   "execution_count": 21,
   "id": "8b4b5f0b-4f87-442b-b61c-727e1a983886",
   "metadata": {},
   "outputs": [
    {
     "name": "stdin",
     "output_type": "stream",
     "text": [
      "State your name f\n",
      "State your age 1\n"
     ]
    },
    {
     "name": "stdout",
     "output_type": "stream",
     "text": [
      "My name is F and I am 1 years old\n"
     ]
    }
   ],
   "source": [
    "name_input = input('State your name')\n",
    "name = name_input.upper()\n",
    "age_input = input('State your age')\n",
    "intro = \"My name is \"  + name + \" and I am \" + age_input + \" years old\"\n",
    "print (intro)"
   ]
  }
 ],
 "metadata": {
  "kernelspec": {
   "display_name": "Python 3 (ipykernel)",
   "language": "python",
   "name": "python3"
  },
  "language_info": {
   "codemirror_mode": {
    "name": "ipython",
    "version": 3
   },
   "file_extension": ".py",
   "mimetype": "text/x-python",
   "name": "python",
   "nbconvert_exporter": "python",
   "pygments_lexer": "ipython3",
   "version": "3.12.3"
  },
  "toc": {
   "base_numbering": 1,
   "nav_menu": {},
   "number_sections": true,
   "sideBar": true,
   "skip_h1_title": false,
   "title_cell": "Table of Contents",
   "title_sidebar": "Contents",
   "toc_cell": false,
   "toc_position": {},
   "toc_section_display": true,
   "toc_window_display": false
  },
  "vscode": {
   "interpreter": {
    "hash": "31f2aee4e71d21fbe5cf8b01ff0e069b9275f58929596ceb00d14d90e3e16cd6"
   }
  }
 },
 "nbformat": 4,
 "nbformat_minor": 5
}
