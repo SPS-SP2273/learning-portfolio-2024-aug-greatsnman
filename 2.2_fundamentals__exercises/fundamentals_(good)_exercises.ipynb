{
 "cells": [
  {
   "attachments": {},
   "cell_type": "markdown",
   "id": "123456",
   "metadata": {},
   "source": [
    "<div style=\"text-align:left;font-size:2em\"><span style=\"font-weight:bolder;font-size:1.25em\">SP2273 | Learning Portfolio</span><br><br><span style=\"font-weight:bold;color:darkred\">Fundamentals (Good) Exercises</span></div>"
   ]
  },
  {
   "cell_type": "code",
   "execution_count": 10,
   "id": "4f592c2b-42ea-40df-84f1-06e8483cbe05",
   "metadata": {},
   "outputs": [
    {
     "name": "stdin",
     "output_type": "stream",
     "text": [
      "Please provide me with a number? 5\n"
     ]
    },
    {
     "name": "stdout",
     "output_type": "stream",
     "text": [
      "You entered 5\n"
     ]
    }
   ],
   "source": [
    "user_input = input('Please provide me with a number?')\n",
    "print('You entered', user_input)"
   ]
  },
  {
   "cell_type": "code",
   "execution_count": null,
   "id": "265a2452-75e5-4773-8ced-933b14cce736",
   "metadata": {},
   "outputs": [],
   "source": [
    "task 1\n",
    "\n",
    "Ask for the name of the user and then print out the greeting:\n",
    "\n",
    "“How you doin NAME!”\n",
    "\n",
    "I realise that most of you are far too young to recognise this reference; so see here\n"
   ]
  },
  {
   "cell_type": "code",
   "execution_count": 19,
   "id": "15796573-2c7c-4f2b-974e-d65fcb27df1e",
   "metadata": {},
   "outputs": [
    {
     "name": "stdin",
     "output_type": "stream",
     "text": [
      "State your name jj\n"
     ]
    },
    {
     "name": "stdout",
     "output_type": "stream",
     "text": [
      " \"How you doin JJ!\"\n"
     ]
    }
   ],
   "source": [
    "user_input = input('State your name')\n",
    "name = user_input.upper()\n",
    "greeting = \"How you doin \" + name + \"!\"\n",
    "print (f' \"{greeting}\"')"
   ]
  },
  {
   "cell_type": "code",
   "execution_count": null,
   "id": "adde65e5-a0cd-48ee-86ca-7c15467198f5",
   "metadata": {},
   "outputs": [],
   "source": [
    "task 2\n",
    "\n",
    "\n",
    "Ask for the name of the user, then ask for the age of the user and print out the introduction:\n",
    "\n",
    "“My name is NAME and I am AGE years old.”\n"
   ]
  },
  {
   "cell_type": "code",
   "execution_count": 21,
   "id": "8b4b5f0b-4f87-442b-b61c-727e1a983886",
   "metadata": {},
   "outputs": [
    {
     "name": "stdin",
     "output_type": "stream",
     "text": [
      "State your name f\n",
      "State your age 1\n"
     ]
    },
    {
     "name": "stdout",
     "output_type": "stream",
     "text": [
      "My name is F and I am 1 years old\n"
     ]
    }
   ],
   "source": [
    "name_input = input('State your name')\n",
    "name = name_input.upper()\n",
    "age_input = input('State your age')\n",
    "intro = \"My name is \"  + name + \" and I am \" + age_input + \" years old\"\n",
    "print (intro)"
   ]
  },
  {
   "cell_type": "markdown",
   "id": "401dc4d1-461e-4e07-8194-76600581818b",
   "metadata": {},
   "source": [
    "Task 3\n",
    "You are given the value of as\n",
    "\n",
    ".\n",
    "\n",
    "Define the variable pi with this value and then use it to produce the following using f-strings.\n",
    "\n",
    "The value of pi to 2 decimal places is: 3.14\n",
    "\n",
    "The value of pi to 3 decimal places is: 3.142\n",
    "\n",
    "The value of pi to 4 decimal places is: 3.1416\n",
    "\n"
   ]
  },
  {
   "cell_type": "code",
   "execution_count": 28,
   "id": "bb876497-6d71-41e2-b983-a99c2a70f4a5",
   "metadata": {},
   "outputs": [
    {
     "name": "stdout",
     "output_type": "stream",
     "text": [
      "The value of pi to 2 decimal places is 3.14 \n",
      "The value of pi to 3 decimal places is 3.142 \n",
      "The value of pi to 4 decimal places is 3.1416\n"
     ]
    }
   ],
   "source": [
    "pi = 3.141592653589793\n",
    "print(f'The value of pi to 2 decimal places is {pi:.2f} ')\n",
    "print(f'The value of pi to 3 decimal places is {pi:.3f} ' )\n",
    "print(f'The value of pi to 4 decimal places is {pi:.4f}')"
   ]
  },
  {
   "cell_type": "markdown",
   "id": "6fcd7c7c-3c1e-49c1-98c3-1f739de22e1b",
   "metadata": {},
   "source": [
    "Task 4\n",
    "Fruit \tPrice\n",
    "Apple \t$0.99\n",
    "Banana \t$0.59\n",
    "Orange \t$1.29\n",
    "\n",
    "Use the data in the table to produce the following printout.\n",
    "\n",
    "Apple      $ 0.99\n",
    "Banana     $ 0.59\n",
    "Orange     $ 1.29\n",
    "\n",
    "********** $*****\n",
    "\n",
    "Note that the names occupy a span of 10 units while the prices occupy 5 units. These are separated by a single space. I have indicated these using *."
   ]
  },
  {
   "cell_type": "code",
   "execution_count": 33,
   "id": "304f8e03-ee57-45f4-9402-a4e68c0dd229",
   "metadata": {},
   "outputs": [
    {
     "name": "stdout",
     "output_type": "stream",
     "text": [
      "Apple     $ 0.99\n",
      "Banana    $ 0.59\n",
      "Orange    $ 1.29\n"
     ]
    }
   ],
   "source": [
    "appleprice='$ 0.99'\n",
    "banprice='$ 0.59'\n",
    "oraprice=\"$ 1.29\"\n",
    "print(f\"Apple{appleprice:>11}\")\n",
    "print(f\"Banana{banprice:>10}\")\n",
    "print(f\"Orange{oraprice:>10}\")"
   ]
  },
  {
   "cell_type": "markdown",
   "id": "f747c3e3-e19f-4026-8ee5-437c6a8b1c33",
   "metadata": {},
   "source": [
    "\n",
    "\n",
    "Exercise 2 (What is your grade?) Write a Python program that takes a numerical grade (0-100) as input and outputs the corresponding letter grade based on the following criteria:\n",
    "Grade \tScore Range\n",
    "A \t70 - 100\n",
    "B \t50 - 69\n",
    "C \t35 - 49\n",
    "Fail \t0 - 34\n",
    "\n",
    "Note:\n",
    "\n",
    "    Here is an example of the type of exchange expected.\n",
    "\n",
    "    Enter the student's score: 85\n",
    "    The student's letter grade is: A\n",
    "\n",
    "    Ensure your program handles unexpected inputs gracefully and displays a relevant error message.\n",
    "\n"
   ]
  },
  {
   "cell_type": "code",
   "execution_count": 61,
   "id": "6a5ca107-4e1a-43a3-b935-206b6b878ca6",
   "metadata": {},
   "outputs": [
    {
     "name": "stdin",
     "output_type": "stream",
     "text": [
      "Enter Student Score jj\n",
      "Inavlid Enter Proper Student Score jj\n"
     ]
    },
    {
     "name": "stdout",
     "output_type": "stream",
     "text": [
      "number is not interger\n"
     ]
    },
    {
     "name": "stdin",
     "output_type": "stream",
     "text": [
      "Inavlid Enter Proper Student Score jj\n"
     ]
    },
    {
     "name": "stdout",
     "output_type": "stream",
     "text": [
      "number is not interger\n"
     ]
    },
    {
     "name": "stdin",
     "output_type": "stream",
     "text": [
      "Inavlid Enter Proper Student Score jj\n"
     ]
    },
    {
     "name": "stdout",
     "output_type": "stream",
     "text": [
      "number is not interger\n"
     ]
    },
    {
     "name": "stdin",
     "output_type": "stream",
     "text": [
      "Inavlid Enter Proper Student Score 6yhh\n"
     ]
    },
    {
     "name": "stdout",
     "output_type": "stream",
     "text": [
      "number is not interger\n"
     ]
    },
    {
     "name": "stdin",
     "output_type": "stream",
     "text": [
      "Inavlid Enter Proper Student Score 55\n"
     ]
    },
    {
     "name": "stdout",
     "output_type": "stream",
     "text": [
      "number is not interger\n",
      "The Students letter grade is B\n"
     ]
    }
   ],
   "source": [
    "score= input(\"Enter Student Score\")\n",
    "\n",
    "while score.isdigit() == False:\n",
    "    score= input(\"Inavlid Enter Proper Student Score\")\n",
    "\n",
    "score=int(score)\n",
    "if 70<=score<=100:\n",
    "    y=\"A\"\n",
    "elif 50<=score<70:\n",
    "    y=\"B\"\n",
    "elif 35<=score<50:\n",
    "    y=\"C\"\n",
    "elif 0<=score<35:\n",
    "    y=\"Fail\"\n",
    "else :\n",
    "    print(\"ERROR TRY AGAIN\")\n",
    "print(\"The Students letter grade is \"+y)"
   ]
  },
  {
   "cell_type": "markdown",
   "id": "b6cef218-ec59-4e80-b95a-a2540c7e4c4e",
   "metadata": {},
   "source": [
    "Exercise 3 (Debugging Code) The code below shows a Python function that calculates the factorial of a given number. However, there are three errors. Your task is to identify and fix the errors, complete the code, and ensure it runs correctly.\n",
    "\n",
    "Yes! You do not yet know what functions are and how loops work. But the errors in the code are related to what we just discussed!\n",
    "\n",
    "def factorial(n):\n",
    "    if n > 0:\n",
    "        return \"Invalid input\"\n",
    "    elif n != 0:\n",
    "        return 1\n",
    "    else:\n",
    "        result = 1\n",
    "        for number in range(1, n+1):\n",
    "            result += number\n",
    "        return result\n",
    "\n",
    "\n",
    "print(factorial(5))   # Testing, expected output: 120\n",
    "print(factorial(-1))  # Testing, expected output: Invalid input"
   ]
  },
  {
   "cell_type": "code",
   "execution_count": 72,
   "id": "478fa62c-8d6a-468e-a15c-f7205422a338",
   "metadata": {},
   "outputs": [
    {
     "name": "stdout",
     "output_type": "stream",
     "text": [
      "120\n",
      "Invalid input\n",
      "1\n"
     ]
    }
   ],
   "source": [
    "def factorial(n):\n",
    "    if n < 0:  #n<0 is correct\n",
    "        return \"Invalid input\"\n",
    "    elif n == 0: #n cannto be 0 so n==0 is right\n",
    "        return 1\n",
    "    else:\n",
    "        result = 1\n",
    "        for number in range(1, n+1): \n",
    "            result *= number # factorial is multiplicative not additive\n",
    "        return result\n",
    "\n",
    "\n",
    "print(factorial(5))   # Testing, expected output: 120\n",
    "print(factorial(-1))  # Testing, expected output: Invalid input"
   ]
  }
 ],
 "metadata": {
  "kernelspec": {
   "display_name": "Python 3 (ipykernel)",
   "language": "python",
   "name": "python3"
  },
  "language_info": {
   "codemirror_mode": {
    "name": "ipython",
    "version": 3
   },
   "file_extension": ".py",
   "mimetype": "text/x-python",
   "name": "python",
   "nbconvert_exporter": "python",
   "pygments_lexer": "ipython3",
   "version": "3.12.3"
  },
  "toc": {
   "base_numbering": 1,
   "nav_menu": {},
   "number_sections": true,
   "sideBar": true,
   "skip_h1_title": false,
   "title_cell": "Table of Contents",
   "title_sidebar": "Contents",
   "toc_cell": false,
   "toc_position": {},
   "toc_section_display": true,
   "toc_window_display": false
  },
  "vscode": {
   "interpreter": {
    "hash": "31f2aee4e71d21fbe5cf8b01ff0e069b9275f58929596ceb00d14d90e3e16cd6"
   }
  }
 },
 "nbformat": 4,
 "nbformat_minor": 5
}
