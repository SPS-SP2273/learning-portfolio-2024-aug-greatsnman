{
 "cells": [
  {
   "attachments": {},
   "cell_type": "markdown",
   "id": "123456",
   "metadata": {},
   "source": [
    "<div style=\"text-align:left;font-size:2em\"><span style=\"font-weight:bolder;font-size:1.25em\">SP2273 | Learning Portfolio</span><br><br><span style=\"font-weight:bold;color:darkred\">Fundamentals (Good) Exercises</span></div>"
   ]
  },
  {
   "cell_type": "code",
   "execution_count": 10,
   "id": "4f592c2b-42ea-40df-84f1-06e8483cbe05",
   "metadata": {},
   "outputs": [
    {
     "name": "stdin",
     "output_type": "stream",
     "text": [
      "Please provide me with a number? 5\n"
     ]
    },
    {
     "name": "stdout",
     "output_type": "stream",
     "text": [
      "You entered 5\n"
     ]
    }
   ],
   "source": [
    "user_input = input('Please provide me with a number?')\n",
    "print('You entered', user_input)"
   ]
  },
  {
   "cell_type": "markdown",
   "id": "dc7f97c9-8dea-46e9-849c-be8a29e800c3",
   "metadata": {},
   "source": [
    "task 1\n",
    "\n",
    "Ask for the name of the user and then print out the greeting:\n",
    "\n",
    "“How you doin NAME!”\n",
    "\n",
    "I realise that most of you are far too young to recognise this reference; so see here\n"
   ]
  },
  {
   "cell_type": "code",
   "execution_count": 3,
   "id": "15796573-2c7c-4f2b-974e-d65fcb27df1e",
   "metadata": {},
   "outputs": [
    {
     "name": "stdin",
     "output_type": "stream",
     "text": [
      "State your name hoipo\n"
     ]
    },
    {
     "name": "stdout",
     "output_type": "stream",
     "text": [
      " \"How you doin HOIPO!\" \n"
     ]
    }
   ],
   "source": [
    "user_input = input('State your name')\n",
    "print (f' \"How you doin {user_input.upper()}!\" ')"
   ]
  },
  {
   "cell_type": "markdown",
   "id": "ef166726-91a4-40f6-b2f6-b63a0c96e478",
   "metadata": {},
   "source": [
    "task 2\n",
    "\n",
    "\n",
    "Ask for the name of the user, then ask for the age of the user and print out the introduction:\n",
    "\n",
    "“My name is NAME and I am AGE years old.”\n"
   ]
  },
  {
   "cell_type": "code",
   "execution_count": 6,
   "id": "8b4b5f0b-4f87-442b-b61c-727e1a983886",
   "metadata": {},
   "outputs": [
    {
     "name": "stdin",
     "output_type": "stream",
     "text": [
      "State your name dfgsdf\n",
      "State your age 221\n"
     ]
    },
    {
     "name": "stdout",
     "output_type": "stream",
     "text": [
      " My name is DFGSDF and i am 221 years old\n"
     ]
    }
   ],
   "source": [
    "name_input = input('State your name')\n",
    "age_input = input('State your age')\n",
    "print (f' My name is {name_input.upper()} and i am {age_input} years old')"
   ]
  },
  {
   "cell_type": "markdown",
   "id": "401dc4d1-461e-4e07-8194-76600581818b",
   "metadata": {},
   "source": [
    "Task 3\n",
    "You are given the value of as\n",
    "\n",
    ".\n",
    "\n",
    "Define the variable pi with this value and then use it to produce the following using f-strings.\n",
    "\n",
    "The value of pi to 2 decimal places is: 3.14\n",
    "\n",
    "The value of pi to 3 decimal places is: 3.142\n",
    "\n",
    "The value of pi to 4 decimal places is: 3.1416\n",
    "\n"
   ]
  },
  {
   "cell_type": "code",
   "execution_count": 7,
   "id": "bb876497-6d71-41e2-b983-a99c2a70f4a5",
   "metadata": {},
   "outputs": [
    {
     "name": "stdout",
     "output_type": "stream",
     "text": [
      "The value of pi to 2 decimal places is 3.14 \n",
      "The value of pi to 3 decimal places is 3.142 \n",
      "The value of pi to 4 decimal places is 3.1416\n"
     ]
    }
   ],
   "source": [
    "#pi = 3.141592653589793\n",
    "import numpy as np\n",
    "print(f'The value of pi to 2 decimal places is {pi:.2f} ')\n",
    "print(f'The value of pi to 3 decimal places is {pi:.3f} ' )\n",
    "print(f'The value of pi to 4 decimal places is {pi:.4f}')"
   ]
  },
  {
   "cell_type": "markdown",
   "id": "6fcd7c7c-3c1e-49c1-98c3-1f739de22e1b",
   "metadata": {},
   "source": [
    "Task 4\n",
    "Fruit \tPrice\n",
    "Apple \t$0.99\n",
    "Banana \t$0.59\n",
    "Orange \t$1.29\n",
    "\n",
    "Use the data in the table to produce the following printout.\n",
    "\n",
    "Apple      $ 0.99\n",
    "Banana     $ 0.59\n",
    "Orange     $ 1.29\n",
    "\n",
    "********** $*****\n",
    "\n",
    "Note that the names occupy a span of 10 units while the prices occupy 5 units. These are separated by a single space. I have indicated these using *."
   ]
  },
  {
   "cell_type": "code",
   "execution_count": 16,
   "id": "304f8e03-ee57-45f4-9402-a4e68c0dd229",
   "metadata": {},
   "outputs": [
    {
     "name": "stdout",
     "output_type": "stream",
     "text": [
      "Apple     $ 0.99\n",
      "Banana    $ 0.59\n",
      "Orange    $ 1.29\n"
     ]
    }
   ],
   "source": [
    "print (f'{'Apple':<10}{'$ 0.99':>5}')\n",
    "print (f'{'Banana':<10}{'$ 0.59':>5}')\n",
    "print (f'{'Orange':<10}{'$ 1.29':>5}')"
   ]
  },
  {
   "cell_type": "markdown",
   "id": "f747c3e3-e19f-4026-8ee5-437c6a8b1c33",
   "metadata": {},
   "source": [
    "\n",
    "\n",
    "Exercise 2 (What is your grade?) Write a Python program that takes a numerical grade (0-100) as input and outputs the corresponding letter grade based on the following criteria:\n",
    "Grade \tScore Range\n",
    "A \t70 - 100\n",
    "B \t50 - 69\n",
    "C \t35 - 49\n",
    "Fail \t0 - 34\n",
    "\n",
    "Note:\n",
    "\n",
    "    Here is an example of the type of exchange expected.\n",
    "\n",
    "    Enter the student's score: 85\n",
    "    The student's letter grade is: A\n",
    "\n",
    "    Ensure your program handles unexpected inputs gracefully and displays a relevant error message.\n",
    "\n"
   ]
  },
  {
   "cell_type": "code",
   "execution_count": null,
   "id": "1a62f4c8-c0a5-4d7c-a927-9d6aceca848c",
   "metadata": {},
   "outputs": [],
   "source": [
    "score= input(\"Enter Student Score\")\n",
    "\n",
    "while score.isdigits() == True \n",
    "                \n",
    "score=int(score)\n",
    "if 70<=score<=100:\n",
    "    y=\"A\"\n",
    "elif 50<=score<70:\n",
    "    y=\"B\"\n",
    "elif 35<=score<50:\n",
    "    y=\"C\"\n",
    "elif 0<=score<35:\n",
    "    y=\"Fail\"\n",
    "else :\n",
    "    print(\"ERROR TRY AGAIN\")\n",
    "print(\"The Students letter grade is \"+y)"
   ]
  },
  {
   "cell_type": "markdown",
   "id": "b6cef218-ec59-4e80-b95a-a2540c7e4c4e",
   "metadata": {},
   "source": [
    "Exercise 3 (Debugging Code) The code below shows a Python function that calculates the factorial of a given number. However, there are three errors. Your task is to identify and fix the errors, complete the code, and ensure it runs correctly.\n",
    "\n",
    "Yes! You do not yet know what functions are and how loops work. But the errors in the code are related to what we just discussed!\n",
    "\n",
    "def factorial(n):\n",
    "    if n > 0:\n",
    "        return \"Invalid input\"\n",
    "    elif n != 0:\n",
    "        return 1\n",
    "    else:\n",
    "        result = 1\n",
    "        for number in range(1, n+1):\n",
    "            result += number\n",
    "        return result\n",
    "\n",
    "\n",
    "print(factorial(5))   # Testing, expected output: 120\n",
    "print(factorial(-1))  # Testing, expected output: Invalid input"
   ]
  },
  {
   "cell_type": "code",
   "execution_count": 72,
   "id": "478fa62c-8d6a-468e-a15c-f7205422a338",
   "metadata": {
    "collapsed": true,
    "jupyter": {
     "outputs_hidden": true
    }
   },
   "outputs": [
    {
     "name": "stdout",
     "output_type": "stream",
     "text": [
      "120\n",
      "Invalid input\n",
      "1\n"
     ]
    }
   ],
   "source": [
    "def factorial(n):\n",
    "    if n < 0:  #n<0 is correct\n",
    "        return \"Invalid input\"\n",
    "    elif n == 0: #n cannto be 0 so n==0 is right\n",
    "        return 1\n",
    "    else:\n",
    "        result = 1\n",
    "        for number in range(1, n+1): \n",
    "            result *= number # factorial is multiplicative not additive\n",
    "        return result\n",
    "\n",
    "\n",
    "print(factorial(5))   # Testing, expected output: 120\n",
    "print(factorial(-1))  # Testing, expected output: Invalid input"
   ]
  }
 ],
 "metadata": {
  "kernelspec": {
   "display_name": "Python 3 (ipykernel)",
   "language": "python",
   "name": "python3"
  },
  "language_info": {
   "codemirror_mode": {
    "name": "ipython",
    "version": 3
   },
   "file_extension": ".py",
   "mimetype": "text/x-python",
   "name": "python",
   "nbconvert_exporter": "python",
   "pygments_lexer": "ipython3",
   "version": "3.12.3"
  },
  "toc": {
   "base_numbering": 1,
   "nav_menu": {},
   "number_sections": true,
   "sideBar": true,
   "skip_h1_title": false,
   "title_cell": "Table of Contents",
   "title_sidebar": "Contents",
   "toc_cell": false,
   "toc_position": {},
   "toc_section_display": true,
   "toc_window_display": false
  },
  "vscode": {
   "interpreter": {
    "hash": "31f2aee4e71d21fbe5cf8b01ff0e069b9275f58929596ceb00d14d90e3e16cd6"
   }
  }
 },
 "nbformat": 4,
 "nbformat_minor": 5
}
