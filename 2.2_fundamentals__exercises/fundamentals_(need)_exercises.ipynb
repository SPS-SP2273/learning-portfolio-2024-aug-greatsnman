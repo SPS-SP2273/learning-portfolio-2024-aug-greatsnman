{
 "cells": [
  {
   "attachments": {},
   "cell_type": "markdown",
   "id": "123456",
   "metadata": {},
   "source": [
    "<div style=\"text-align:left;font-size:2em\"><span style=\"font-weight:bolder;font-size:1.25em\">SP2273 | Learning Portfolio</span><br><br><span style=\"font-weight:bold;color:darkred\">Fundamentals (Need) Exercises</span></div>"
   ]
  },
  {
   "cell_type": "markdown",
   "id": "f37bbd59-b373-4744-9ffb-d218fb361c69",
   "metadata": {},
   "source": [
    "function\n",
    "print\n",
    "add\n",
    "list\n",
    "math funtions\n",
    "*importing packages*\n",
    "storage information varible thing ( forgot name) \n",
    "*above is called a dictionary that needs {}*\n",
    "image display\n",
    "variable\n",
    "*things i forgot to list from memory*\n",
    "*comment*\n",
    "*difference betwwen = assign and == check if value is equal*\n",
    "*if statements*\n",
    "*indentation sensitivity of python*\n",
    "*string vs variable*"
   ]
  },
  {
   "cell_type": "code",
   "execution_count": 3,
   "id": "319d21da-1f42-470e-8ae6-d5c3dc5cb2c7",
   "metadata": {},
   "outputs": [
    {
     "name": "stdout",
     "output_type": "stream",
     "text": [
      "3 4 5.0\n"
     ]
    }
   ],
   "source": [
    "import math as meth\n",
    "x, y = 3,4\n",
    "z = meth.sqrt(x**2 + y**2)\n",
    "print(x, y, z)"
   ]
  },
  {
   "cell_type": "markdown",
   "id": "df0b893b-9cd0-425f-95d3-623f6e10e3c5",
   "metadata": {},
   "source": [
    "# \tTerm \t              Description\n",
    "1 \tFunction \t          input a variable into the function and it performs an action based on it and returns a result\n",
    "2 \tArguments \t          check if input matches with another input or predetermined variable/value and return a result that varies\n",
    "3 \tComments \t          insert text into code that isnt run so you can put notes,mark something or do whatever\n",
    "4 \tIndentations \t      denote position of statement in code, if its part of function or seperate code\n",
    "5 \tPackages \t          list of preprogrammed functions you can \n",
    "6 \t. \t                  denotes you are calling function from a package\n",
    "7 \t: \t                  denotes postion of items in list or indicates it is in a function\n",
    "8 \t[] \t                  use this in a list\n",
    "9 \t[[],[]] \t          format for a 1d list\n",
    "10 \t{}                    define directory"
   ]
  },
  {
   "cell_type": "code",
   "execution_count": 4,
   "id": "8140345f-2b31-4eda-ae77-8d8e23992be3",
   "metadata": {},
   "outputs": [
    {
     "name": "stdout",
     "output_type": "stream",
     "text": [
      "2.5 2 0.3999999999999999\n"
     ]
    }
   ],
   "source": [
    "x,y,z = 5/2 , 5//2 , 2.4%2 # first one is float(got decimal) division, second is integer division(decimal is gone)\n",
    "# % is modulo function which  return the remainder after divison to lowest possible value\n",
    "print(x,y,z)"
   ]
  },
  {
   "cell_type": "code",
   "execution_count": null,
   "id": "3092155d-a145-4c40-a455-13468cc144b7",
   "metadata": {},
   "outputs": [],
   "source": []
  }
 ],
 "metadata": {
  "kernelspec": {
   "display_name": "Python 3 (ipykernel)",
   "language": "python",
   "name": "python3"
  },
  "language_info": {
   "codemirror_mode": {
    "name": "ipython",
    "version": 3
   },
   "file_extension": ".py",
   "mimetype": "text/x-python",
   "name": "python",
   "nbconvert_exporter": "python",
   "pygments_lexer": "ipython3",
   "version": "3.12.3"
  },
  "toc": {
   "base_numbering": 1,
   "nav_menu": {},
   "number_sections": true,
   "sideBar": true,
   "skip_h1_title": false,
   "title_cell": "Table of Contents",
   "title_sidebar": "Contents",
   "toc_cell": false,
   "toc_position": {},
   "toc_section_display": true,
   "toc_window_display": false
  },
  "vscode": {
   "interpreter": {
    "hash": "31f2aee4e71d21fbe5cf8b01ff0e069b9275f58929596ceb00d14d90e3e16cd6"
   }
  }
 },
 "nbformat": 4,
 "nbformat_minor": 5
}
