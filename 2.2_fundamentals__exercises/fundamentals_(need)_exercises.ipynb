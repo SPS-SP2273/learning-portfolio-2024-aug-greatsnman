{
 "cells": [
  {
   "attachments": {},
   "cell_type": "markdown",
   "id": "123456",
   "metadata": {},
   "source": [
    "<div style=\"text-align:left;font-size:2em\"><span style=\"font-weight:bolder;font-size:1.25em\">SP2273 | Learning Portfolio</span><br><br><span style=\"font-weight:bold;color:darkred\">Fundamentals (Need) Exercises</span></div>"
   ]
  },
  {
   "cell_type": "markdown",
   "id": "f37bbd59-b373-4744-9ffb-d218fb361c69",
   "metadata": {},
   "source": [
    "\n",
    "    Purely from memory, list as many of the basic Python features I mentioned in my notes as you remember.\n",
    "    Use a Markdown cell for this list.\n",
    "    Now, visit the notes and complete the list with the ones you missed.\n",
    "    Indicate those you missed by putting them in italics.\n",
    "\n",
    "1. function\n",
    "2. print\n",
    "3. add\n",
    "4. list\n",
    "5. math\n",
    "6. funtions *importing packages*\n",
    "7. storage\n",
    "8. information\n",
    "9. varible\n",
    "10. dictionary\n",
    "11. *image display*\n",
    "12. *comment*\n",
    "13. *importing packages*\n",
    "14. *difference betwwen = assign and == check if value is equal*\n",
    "15. *if statements*\n",
    "16. *indentation sensitivity of python*\n",
    "17. *string vs variable*"
   ]
  },
  {
   "cell_type": "code",
   "execution_count": 3,
   "id": "319d21da-1f42-470e-8ae6-d5c3dc5cb2c7",
   "metadata": {},
   "outputs": [
    {
     "name": "stdout",
     "output_type": "stream",
     "text": [
      "3 4 5.0\n"
     ]
    }
   ],
   "source": [
    "import math as meth\n",
    "x, y = 3,4\n",
    "z = meth.sqrt(x**2 + y**2)\n",
    "print(x, y, z)"
   ]
  },
  {
   "cell_type": "markdown",
   "id": "df0b893b-9cd0-425f-95d3-623f6e10e3c5",
   "metadata": {},
   "source": [
    "|# |Term \t         |   Description                                                                                               |\n",
    "|:--------:|:--------:|:----------|\n",
    "|1 |Function \t     |   it performs an action when called and may not return a result or need variable input           |\n",
    "|2 |Arguments \t     |   argument is the term passed to the function when we call it, some functions have no arguments |\n",
    "|3 |Comments \t     |   insert text into code that isnt run so you can put notes,mark something or do whatever                    |\n",
    "|4 |Indentations \t |   denote position of statement in code, if its part of function or seperate code                            |\n",
    "|5 |Packages \t     |   list of preprogrammed functions you can                                                                   |\n",
    "|6 |. \t             |   denotes you are calling function from a package                                                           |\n",
    "|7 |: \t             |   denotes postion of items in list or indicates it is in a function                                         |\n",
    "|8 |[] \t             |   use this for a 1d list                                                                                        |\n",
    "|9 |[[],[]] \t     |   format for a 2d list                                                                                      |\n",
    "|10| {}              |   define directory                                                                                          |"
   ]
  },
  {
   "cell_type": "code",
   "execution_count": 6,
   "id": "8140345f-2b31-4eda-ae77-8d8e23992be3",
   "metadata": {},
   "outputs": [
    {
     "name": "stdout",
     "output_type": "stream",
     "text": [
      " float divison output: 2.5\n",
      " integer divison output: 2\n",
      " modulo output: 0.3999999999999999\n"
     ]
    }
   ],
   "source": [
    "x,y,z = 5/2 , 5//2 , 2.4%2 # first one is float(got decimal) division, second is integer division(decimal is gone)\n",
    "x = 5/2  # first one is float(got decimal) division\n",
    "y = 5//2 #integer division(decimal is gone)\n",
    "z = 2.4 % 2  # % is modulo function which  return the remainder after divison to lowest possible value\n",
    "print(f' float divison output: {x}')\n",
    "print(f' integer divison output: {y}')\n",
    "print(f' modulo output: {z}')"
   ]
  },
  {
   "cell_type": "code",
   "execution_count": 3,
   "id": "8c1101e9-3701-4f15-8ba9-b364f4d7ece6",
   "metadata": {},
   "outputs": [
    {
     "name": "stdout",
     "output_type": "stream",
     "text": [
      "x output: 2.5\n"
     ]
    }
   ],
   "source": [
    "x = 5/2 # the / operator performs divison\n",
    "print(f'x output: {x}')"
   ]
  }
 ],
 "metadata": {
  "kernelspec": {
   "display_name": "Python 3 (ipykernel)",
   "language": "python",
   "name": "python3"
  },
  "language_info": {
   "codemirror_mode": {
    "name": "ipython",
    "version": 3
   },
   "file_extension": ".py",
   "mimetype": "text/x-python",
   "name": "python",
   "nbconvert_exporter": "python",
   "pygments_lexer": "ipython3",
   "version": "3.12.3"
  },
  "toc": {
   "base_numbering": 1,
   "nav_menu": {},
   "number_sections": true,
   "sideBar": true,
   "skip_h1_title": false,
   "title_cell": "Table of Contents",
   "title_sidebar": "Contents",
   "toc_cell": false,
   "toc_position": {},
   "toc_section_display": true,
   "toc_window_display": false
  },
  "vscode": {
   "interpreter": {
    "hash": "31f2aee4e71d21fbe5cf8b01ff0e069b9275f58929596ceb00d14d90e3e16cd6"
   }
  }
 },
 "nbformat": 4,
 "nbformat_minor": 5
}
