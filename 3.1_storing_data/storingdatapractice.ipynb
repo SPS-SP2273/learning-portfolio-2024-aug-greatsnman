{
 "cells": [
  {
   "cell_type": "code",
   "execution_count": 1,
   "id": "c1525cb9-1a78-4c70-8fb2-f7b0f8cf57f0",
   "metadata": {},
   "outputs": [],
   "source": [
    "superhero_info = {\n",
    "    \"Natasha Romanoff\": \"Black Widow\",\n",
    "    \"Tony Stark\": \"Iron Man\",\n",
    "    \"Stephen Strange\": \"Doctor Strange\"\n",
    "}            "
   ]
  },
  {
   "cell_type": "code",
   "execution_count": 2,
   "id": "3468316f-78bb-4e39-9f74-d96faea4d741",
   "metadata": {},
   "outputs": [
    {
     "data": {
      "text/plain": [
       "dict_keys(['Natasha Romanoff', 'Tony Stark', 'Stephen Strange'])"
      ]
     },
     "execution_count": 2,
     "metadata": {},
     "output_type": "execute_result"
    }
   ],
   "source": [
    "superhero_info.keys()"
   ]
  },
  {
   "cell_type": "code",
   "execution_count": 3,
   "id": "0c396e80-910d-4041-be90-78ef7c2eb458",
   "metadata": {},
   "outputs": [],
   "source": [
    "py_superhero_info = [['Natasha Romanoff', 'Black Widow'],\n",
    "                     ['Tony Stark', 'Iron Man'],\n",
    "                     ['Stephen Strange', 'Doctor Strange']]"
   ]
  },
  {
   "cell_type": "code",
   "execution_count": 4,
   "id": "e1cb1679-5b6c-4dc4-a6be-f9c3eaf77df5",
   "metadata": {},
   "outputs": [
    {
     "data": {
      "text/plain": [
       "['Tony Stark', 'Iron Man']"
      ]
     },
     "execution_count": 4,
     "metadata": {},
     "output_type": "execute_result"
    }
   ],
   "source": [
    "py_superhero_info[1]"
   ]
  },
  {
   "cell_type": "code",
   "execution_count": 5,
   "id": "0f631d12-0947-40d3-8881-7a33900f58e6",
   "metadata": {},
   "outputs": [],
   "source": [
    "py_list_2d = [[1, \"A\"], [2, \"B\"], [3, \"C\"], [4, \"D\"],\n",
    "              [5, \"E\"], [6, \"F\"], [7, \"G\"], [8, \"H\"],\n",
    "              [9, \"I\"], [10, \"J\"]]\n",
    "\n"
   ]
  },
  {
   "cell_type": "code",
   "execution_count": 7,
   "id": "bb482ada-61ab-446b-8531-8bf5f8e9b9df",
   "metadata": {},
   "outputs": [],
   "source": [
    "import numpy as np\n",
    "np_array_2d = np.array(py_list_2d)  \n"
   ]
  },
  {
   "cell_type": "code",
   "execution_count": 9,
   "id": "55981f45-bf10-48d7-a13a-cdb80db1ef84",
   "metadata": {},
   "outputs": [
    {
     "data": {
      "text/plain": [
       "10"
      ]
     },
     "execution_count": 9,
     "metadata": {},
     "output_type": "execute_result"
    }
   ],
   "source": [
    "len(py_list_2d)\n"
   ]
  },
  {
   "cell_type": "code",
   "execution_count": 10,
   "id": "a22cee90-71cf-44d7-9c61-c2def8f9fb1c",
   "metadata": {},
   "outputs": [
    {
     "data": {
      "text/plain": [
       "10"
      ]
     },
     "execution_count": 10,
     "metadata": {},
     "output_type": "execute_result"
    }
   ],
   "source": [
    "len(np_array_2d)"
   ]
  },
  {
   "cell_type": "code",
   "execution_count": 11,
   "id": "2274241f-2919-40ce-af79-51fbe1871b17",
   "metadata": {},
   "outputs": [
    {
     "data": {
      "text/plain": [
       "(10, 2)"
      ]
     },
     "execution_count": 11,
     "metadata": {},
     "output_type": "execute_result"
    }
   ],
   "source": [
    "np_array_2d.shape"
   ]
  },
  {
   "cell_type": "code",
   "execution_count": 12,
   "id": "e2315216-90cf-4152-8723-9ff44e50d47e",
   "metadata": {},
   "outputs": [
    {
     "ename": "TypeError",
     "evalue": "The 'out' kwarg is necessary. Use numpy.strings.multiply without it.",
     "output_type": "error",
     "traceback": [
      "\u001b[1;31m---------------------------------------------------------------------------\u001b[0m",
      "\u001b[1;31mTypeError\u001b[0m                                 Traceback (most recent call last)",
      "Cell \u001b[1;32mIn[12], line 1\u001b[0m\n\u001b[1;32m----> 1\u001b[0m \u001b[43mnp_array_2d\u001b[49m\u001b[38;5;241;43m*\u001b[39;49m\u001b[38;5;241;43m2\u001b[39;49m\n",
      "\u001b[1;31mTypeError\u001b[0m: The 'out' kwarg is necessary. Use numpy.strings.multiply without it."
     ]
    }
   ],
   "source": [
    "np_array_2d*2"
   ]
  },
  {
   "cell_type": "code",
   "execution_count": 13,
   "id": "6848a725-f8cf-4381-bff0-e438134d3ea4",
   "metadata": {},
   "outputs": [],
   "source": [
    "py_list = [1, 2, 3, 4, 5]\n",
    "np_array = np.array(py_list) "
   ]
  },
  {
   "cell_type": "code",
   "execution_count": 14,
   "id": "cff0ca9f-5a4e-4649-bf6e-be2774a82852",
   "metadata": {},
   "outputs": [
    {
     "data": {
      "text/plain": [
       "15"
      ]
     },
     "execution_count": 14,
     "metadata": {},
     "output_type": "execute_result"
    }
   ],
   "source": [
    "sum(py_list)"
   ]
  },
  {
   "cell_type": "code",
   "execution_count": 15,
   "id": "96109e4a-1d04-4cf5-881f-291556d3bc4f",
   "metadata": {},
   "outputs": [
    {
     "data": {
      "text/plain": [
       "5"
      ]
     },
     "execution_count": 15,
     "metadata": {},
     "output_type": "execute_result"
    }
   ],
   "source": [
    "max(py_list)"
   ]
  }
 ],
 "metadata": {
  "kernelspec": {
   "display_name": "Python 3 (ipykernel)",
   "language": "python",
   "name": "python3"
  },
  "language_info": {
   "codemirror_mode": {
    "name": "ipython",
    "version": 3
   },
   "file_extension": ".py",
   "mimetype": "text/x-python",
   "name": "python",
   "nbconvert_exporter": "python",
   "pygments_lexer": "ipython3",
   "version": "3.12.3"
  }
 },
 "nbformat": 4,
 "nbformat_minor": 5
}
