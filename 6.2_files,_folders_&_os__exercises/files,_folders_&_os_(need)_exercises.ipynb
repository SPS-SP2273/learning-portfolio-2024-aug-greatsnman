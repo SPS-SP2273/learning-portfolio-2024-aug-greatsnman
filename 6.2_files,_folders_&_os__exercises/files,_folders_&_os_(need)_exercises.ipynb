{
 "cells": [
  {
   "cell_type": "markdown",
   "id": "212b1d15-f634-49da-9c7e-6843af12b853",
   "metadata": {},
   "source": [
    "\n",
    "\n",
    "You are a member of an international team analysing environmental pollution. The project involves ten cities: Cairo, Dhaka, Jakarta, Karachi, Manila, Melbourne, Osaka, Shanghai, Singapore, and Tokyo.\n",
    "\n",
    "Your task is to process and organise data from various environmental measurements. The provided zip file, os-collaboration-exercise-data.zip, contains all relevant data files for the past year.\n",
    "\n",
    "Things to note\n",
    "\n",
    "    Data Files: Each data file is named in the format month-date_city.txt (e.g., may-10_singapore.txt).\n",
    "    Data Collection: Data was recorded sporadically; not all days of each month have corresponding data files. The dates of data collection vary across the cities.\n",
    "    Exclusion of Files: Ignore any non-text files, such as those in .pdf, .png, or .jpg formats.\n",
    "\n"
   ]
  },
  {
   "cell_type": "markdown",
   "id": "a3b2e503-03ec-47bb-96d5-820198071071",
   "metadata": {},
   "source": [
    "TASK 1\n",
    "We like to convert the filename to a more useful numerical format. Specifically, we want to convert month-date-city.txt. (i.e. may-10-singapore.txt) to a mm-dd-city.txt (i.e. 05-10-singapore.txt) format.\n",
    "\n",
    "Using the following dictionary (or otherwise), write a snippet of Python code to convert 'oct-08_singapore.txt' to 10-08-singapore.txt.\n",
    "\n",
    "{\n",
    "'jan': '01', 'feb': '02', 'mar': '03',\n",
    "'apr': '04', 'may': '05', 'jun': '06',\n",
    "'jul': '07', 'aug': '08', 'sep': '09',\n",
    "'oct': '10', 'nov': '11', 'dec': '12'\n",
    "}"
   ]
  },
  {
   "cell_type": "code",
   "execution_count": 52,
   "id": "a5f9845b-c989-4bca-8352-51109f6dc52b",
   "metadata": {},
   "outputs": [
    {
     "name": "stdout",
     "output_type": "stream",
     "text": [
      "10-08_singapore.txt\n"
     ]
    }
   ],
   "source": [
    "import os\n",
    "month_dict = {\n",
    "'jan': '01', 'feb': '02', 'mar': '03',\n",
    "'apr': '04', 'may': '05', 'jun': '06',\n",
    "'jul': '07', 'aug': '08', 'sep': '09',\n",
    "'oct': '10', 'nov': '11', 'dec': '12'\n",
    "}\n",
    "\n",
    "x= 'oct-08_singapore.txt'\n",
    "for month in month_dict:\n",
    "    x= x.replace(month,month_dict[month])\n",
    "print(x)"
   ]
  },
  {
   "cell_type": "markdown",
   "id": "48928fb6-b547-4d88-a104-19a6accd3f4f",
   "metadata": {},
   "source": [
    "task 2 \n",
    "Incorporate your previous code into a function named rename_my_file(old_file_name) \n",
    "that accepts the old filename as the argument and returns the new file name."
   ]
  },
  {
   "cell_type": "code",
   "execution_count": 76,
   "id": "b6fcc19d-c125-4082-beef-9304ac8daa2f",
   "metadata": {},
   "outputs": [
    {
     "data": {
      "text/plain": [
       "'09-9_Singapore.txt'"
      ]
     },
     "execution_count": 76,
     "metadata": {},
     "output_type": "execute_result"
    }
   ],
   "source": [
    "import os\n",
    "def rename_my_file(old_file_name):\n",
    "    month_dict = {\n",
    "    'jan': '01', 'feb': '02', 'mar': '03',\n",
    "    'apr': '04', 'may': '05', 'jun': '06',\n",
    "    'jul': '07', 'aug': '08', 'sep': '09',\n",
    "    'oct': '10', 'nov': '11', 'dec': '12'\n",
    "    }\n",
    "\n",
    "    newfilename= old_file_name\n",
    "    for month in month_dict:\n",
    "        newfilename= newfilename.replace(month,month_dict[month])\n",
    "    return newfilename\n",
    "    \n",
    "rename_my_file('sep-9_Singapore.txt')"
   ]
  },
  {
   "cell_type": "markdown",
   "id": "e7d0470a-5164-472d-9a13-27e033b23f39",
   "metadata": {},
   "source": [
    "Task 3\n",
    "Use a for loop to apply the function rename_my_file() to the file list below.\n",
    "\n",
    "['oct-08_singapore.txt', 'jul-10_cairo.txt', 'may-15_dhaka.txt',\n",
    " 'may-13_cairo.txt', 'oct-21_cairo.txt', 'jan-10_singapore.txt',\n",
    " 'jun-20_tokyo.txt', 'aug-06_jakarta.txt', 'dec-21_karachi.txt',\n",
    " 'jan-01_tokyo.txt']\n",
    "\n",
    "Print out your progress in the form old-file-name ----> new-file-name"
   ]
  },
  {
   "cell_type": "code",
   "execution_count": 79,
   "id": "464b1b52-3ed7-4224-9de6-f60ad751669e",
   "metadata": {},
   "outputs": [
    {
     "name": "stdout",
     "output_type": "stream",
     "text": [
      "['10-08_singapore.txt', '07-10_cairo.txt', '05-15_dhaka.txt', '05-13_cairo.txt', '10-21_cairo.txt', '01-10_singapore.txt', '06-20_tokyo.txt', '08-06_jakarta.txt', '12-21_karachi.txt', '01-01_tokyo.txt']\n"
     ]
    }
   ],
   "source": [
    "old_file_name = ['oct-08_singapore.txt', 'jul-10_cairo.txt', 'may-15_dhaka.txt',\n",
    " 'may-13_cairo.txt', 'oct-21_cairo.txt', 'jan-10_singapore.txt',\n",
    " 'jun-20_tokyo.txt', 'aug-06_jakarta.txt', 'dec-21_karachi.txt',\n",
    " 'jan-01_tokyo.txt']\n",
    "new_file_name= [\n",
    "    \n",
    "]\n",
    "for i in old_file_name:\n",
    "    translatename= rename_my_file(i)\n",
    "    new_file_name.append(translatename)\n",
    "print (new_file_name)"
   ]
  },
  {
   "cell_type": "markdown",
   "id": "fce8f4ea-de1a-4bce-a53c-13b839e5d61b",
   "metadata": {},
   "source": [
    "Task 4\n",
    "\n",
    "     With the help of glob, use rename_my_file() to rename all the .txt files in the folder.\n",
    "\n",
    "    Note that you might have to adjust your function rename_my_file() to accommodate the already renamed files.\n"
   ]
  },
  {
   "cell_type": "code",
   "execution_count": 153,
   "id": "732fc337-dcfa-4a02-8cf0-749632ce4aa7",
   "metadata": {},
   "outputs": [
    {
     "name": "stderr",
     "output_type": "stream",
     "text": [
      "<>:7: SyntaxWarning: invalid escape sequence '\\*'\n",
      "<>:7: SyntaxWarning: invalid escape sequence '\\*'\n",
      "C:\\Users\\Sri Naren the Great\\AppData\\Local\\Temp\\ipykernel_30536\\3665564498.py:7: SyntaxWarning: invalid escape sequence '\\*'\n",
      "  for name in glob.glob('os-collaboration-exercise-data\\*.txt', recursive=True):\n"
     ]
    }
   ],
   "source": [
    "import glob\n",
    "import os\n",
    "\n",
    "#for name in glob.glob('C:\\\\Users\\\\Sri Naren the Great\\\\Documents\\\\GitHub\\\\learning-portfolio-2024-aug-greatsnman\\\\6.2_files,_folders_&_os__exercises\\\\os-collaboration-exercise-data\\\\*'):\n",
    "#    print(name)\n",
    "\n",
    "for name in glob.glob('os-collaboration-exercise-data\\*.txt', recursive=True):\n",
    "    filename=name.split(os.path.sep)[-1]\n",
    "    try :\n",
    "        newname=rename_my_file(filename)\n",
    "        os.rename(filename, newname)\n",
    "    except:\n",
    "        continue"
   ]
  }
 ],
 "metadata": {
  "kernelspec": {
   "display_name": "Python 3 (ipykernel)",
   "language": "python",
   "name": "python3"
  },
  "language_info": {
   "codemirror_mode": {
    "name": "ipython",
    "version": 3
   },
   "file_extension": ".py",
   "mimetype": "text/x-python",
   "name": "python",
   "nbconvert_exporter": "python",
   "pygments_lexer": "ipython3",
   "version": "3.12.3"
  },
  "toc": {
   "base_numbering": 1,
   "nav_menu": {},
   "number_sections": true,
   "sideBar": true,
   "skip_h1_title": false,
   "title_cell": "Table of Contents",
   "title_sidebar": "Contents",
   "toc_cell": false,
   "toc_position": {},
   "toc_section_display": true,
   "toc_window_display": false
  },
  "vscode": {
   "interpreter": {
    "hash": "31f2aee4e71d21fbe5cf8b01ff0e069b9275f58929596ceb00d14d90e3e16cd6"
   }
  }
 },
 "nbformat": 4,
 "nbformat_minor": 5
}
