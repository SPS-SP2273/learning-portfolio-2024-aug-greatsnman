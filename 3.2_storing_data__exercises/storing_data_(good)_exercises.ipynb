{
 "cells": [
  {
   "attachments": {},
   "cell_type": "markdown",
   "id": "123456",
   "metadata": {},
   "source": [
    "<div style=\"text-align:left;font-size:2em\"><span style=\"font-weight:bolder;font-size:1.25em\">SP2273 | Learning Portfolio</span><br><br><span style=\"font-weight:bold;color:darkred\">Storing Data (Good) Exercises</span></div>"
   ]
  },
  {
   "cell_type": "markdown",
   "id": "0b91b5f7-a28b-4b0f-9016-f45f046ac80f",
   "metadata": {},
   "source": [
    "\n",
    "\n",
    "Exercise 1 (Total recall) ☻\n",
    "\n",
    "Purely from memory, write short descriptions of the following terms:\n",
    "\n",
    "|Term \t|Brief description|\n",
    "|-----|-----|\n",
    "|Subsetting |\t- take a small part of data from list/array|\n",
    "|Indexing \t|- take 1 item from list/array|\n",
    "|Slicing \t|- remove some data from list/array *it means selecting a range of data*|\n",
    "|Masking \t|- runs through the array loking for variables fulflling the condition and returning output based on that|\n",
    "\n",
    "If you cannot recall the answers, please refer to the notes and put this information you could not recall in italics.\n"
   ]
  },
  {
   "cell_type": "markdown",
   "id": "67899157-b43d-41da-9c90-5027423ee4ef",
   "metadata": {},
   "source": [
    "Exercise 2 (Show me the ‘odd’ letters) ☻\n",
    "\n",
    "np_array_2d = np.array([[1, \"A\"], [3, \"C\"], [2, \"B\"], [4, \"D\"],\n",
    "                        [5, \"E\"], [7, \"G\"], [6, \"F\"], [8, \"H\"],\n",
    "                        [10, \"J\"], [9, \"I\"]])\n",
    "\n",
    "Use masking to subset the letters that correspond to the odd numbers. I.e., get the result [A, C, E, G, I].\n",
    "\n",
    "This is a slightly tricky problem because arrays are fussy about type. So, let me give you a recipe to solve this problem.\n",
    "\n",
    "    Subset all the first elements.\n",
    "        You should get array(['1', '3', '2', ..., '10', '9'])\n",
    "    Convert this to integers using astype(int)\n",
    "        You must look up how astype() works.\n",
    "    Use % to get the remainder for division by 2.\n",
    "        You should get array([1, 1, 0, ..., 0, 1]).\n",
    "    Use the previous result to create a mask that checks if the remainder is zero or not\n",
    "        You should get array([True, True, False, ..., False, True]).\n",
    "        Now you have identified the locations of the odd numbers.\n",
    "    Use the mask and extract the corresponding second elements.\n"
   ]
  },
  {
   "cell_type": "code",
   "execution_count": 5,
   "id": "994f6e92-9c89-4776-9133-266e8bc8fcf7",
   "metadata": {},
   "outputs": [
    {
     "data": {
      "text/plain": [
       "array(['A', 'C', 'E', 'G', 'I'], dtype='<U21')"
      ]
     },
     "execution_count": 5,
     "metadata": {},
     "output_type": "execute_result"
    }
   ],
   "source": [
    "import numpy as np\n",
    "np_array_2d = np.array([[1, \"A\"], [3, \"C\"], [2, \"B\"], [4, \"D\"],\n",
    "                        [5, \"E\"], [7, \"G\"], [6, \"F\"], [8, \"H\"],\n",
    "                        [10, \"J\"], [9, \"I\"]])\n",
    "np_array_2d[:10,0]\n",
    "yman=np_array_2d[:,0].astype('int')\n",
    "ydiv = yman%2\n",
    "mask_man= ydiv !=0\n",
    "np_array_2d[mask_man][:,1]\n"
   ]
  }
 ],
 "metadata": {
  "kernelspec": {
   "display_name": "Python 3 (ipykernel)",
   "language": "python",
   "name": "python3"
  },
  "language_info": {
   "codemirror_mode": {
    "name": "ipython",
    "version": 3
   },
   "file_extension": ".py",
   "mimetype": "text/x-python",
   "name": "python",
   "nbconvert_exporter": "python",
   "pygments_lexer": "ipython3",
   "version": "3.12.3"
  },
  "toc": {
   "base_numbering": 1,
   "nav_menu": {},
   "number_sections": true,
   "sideBar": true,
   "skip_h1_title": false,
   "title_cell": "Table of Contents",
   "title_sidebar": "Contents",
   "toc_cell": false,
   "toc_position": {},
   "toc_section_display": true,
   "toc_window_display": false
  },
  "vscode": {
   "interpreter": {
    "hash": "31f2aee4e71d21fbe5cf8b01ff0e069b9275f58929596ceb00d14d90e3e16cd6"
   }
  }
 },
 "nbformat": 4,
 "nbformat_minor": 5
}
