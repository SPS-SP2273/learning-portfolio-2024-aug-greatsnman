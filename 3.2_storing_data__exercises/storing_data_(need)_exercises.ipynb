{
 "cells": [
  {
   "attachments": {},
   "cell_type": "markdown",
   "id": "123456",
   "metadata": {},
   "source": [
    "<div style=\"text-align:left;font-size:2em\"><span style=\"font-weight:bolder;font-size:1.25em\">SP2273 | Learning Portfolio</span><br><br><span style=\"font-weight:bold;color:darkred\">Storing Data (Need) Exercises</span></div>"
   ]
  },
  {
   "cell_type": "markdown",
   "id": "81902192-2003-432c-adca-2acc7f883e91",
   "metadata": {},
   "source": [
    "Exercise 1"
   ]
  },
  {
   "cell_type": "markdown",
   "id": "a4020c10-c553-4e78-8b76-9a0172d43ca8",
   "metadata": {},
   "source": [
    "Two similarities between lists and arrays.\n",
    "    List and arrays assign value to data stored starting with 0.\n",
    "    List and arrays can have functions performed on them such as \n",
    "Two differences between lists and arrays.\n",
    "    Arrays are type sensitive and only store 1 type of data\n",
    "    Arrays perform mathemathical fuctions on each data point while lists do it to the whole set.\n",
    "What is a dictionary?\n",
    "    A sotrage method where data is stored while assigned to another data point."
   ]
  },
  {
   "cell_type": "code",
   "execution_count": null,
   "id": "e8e9c049-0270-47cd-95c2-09dc766137f3",
   "metadata": {},
   "outputs": [],
   "source": [
    "Exercise 2 (Indexing) ☻\n",
    "\n",
    "Modify the following code to print out all elements with an odd number. I have done the one corresponding to i9 for you.\n",
    "\n",
    "py_list = [\"a1\", \"b2\", \"c3\", \"d4\", \"e5\", \"f6\", \"g7\", \"h8\", \"i9\", \"j10\"]\n",
    "                    # Prints 'a1'\n",
    "                    # Prints 'c3'\n",
    "                    # Prints 'e5'\n",
    "                    # Prints 'g7'\n",
    "print(py_list[8])   # Prints 'i9'"
   ]
  },
  {
   "cell_type": "code",
   "execution_count": 1,
   "id": "95ec4a95-aed2-4f11-bfdf-9376a44bf172",
   "metadata": {},
   "outputs": [
    {
     "name": "stdout",
     "output_type": "stream",
     "text": [
      "a1\n",
      "c3\n",
      "e5\n",
      "g7\n",
      "i9\n"
     ]
    }
   ],
   "source": [
    "py_list = [\"a1\", \"b2\", \"c3\", \"d4\", \"e5\", \"f6\", \"g7\", \"h8\", \"i9\", \"j10\"]\n",
    "print(py_list[0])                    # Prints 'a1'\n",
    "print(py_list[2])                    # Prints 'c3'\n",
    "print(py_list[4])                    # Prints 'e5'\n",
    "print(py_list[6])                    # Prints 'g7'\n",
    "print(py_list[8])    # Prints 'i9'"
   ]
  },
  {
   "cell_type": "code",
   "execution_count": null,
   "id": "9bd6812d-3e8e-4c11-8842-0488e5d78813",
   "metadata": {},
   "outputs": [],
   "source": [
    "Exercise 3 (Index again) ☻\n",
    "\n",
    "Given the following list in Python:\n",
    "\n",
    "elements = ['Hydrogen',\n",
    "            'Helium', 'Lithium',\n",
    "            'Beryllium', 'Boron', 'Carbon',\n",
    "            'Nitrogen', 'Oxygen',\n",
    "            'Fluorine',\n",
    "            'Neon']\n",
    "\n",
    "    Access and print the element at index 4 using forward indexing.\n",
    "    Access and print the element at index 4 from the end of the list using reverse indexing.\n"
   ]
  },
  {
   "cell_type": "code",
   "execution_count": 5,
   "id": "9749a223-a66e-405c-8c8b-28cc79d40f16",
   "metadata": {},
   "outputs": [
    {
     "name": "stdout",
     "output_type": "stream",
     "text": [
      "Boron\n",
      "Nitrogen\n"
     ]
    }
   ],
   "source": [
    "elements = ['Hydrogen',\n",
    "            'Helium', 'Lithium',\n",
    "            'Beryllium', 'Boron', 'Carbon',\n",
    "            'Nitrogen', 'Oxygen',\n",
    "            'Fluorine',\n",
    "            'Neon']\n",
    "elements[4]\n",
    "print(elements[4])\n",
    "elements[-4]\n",
    "print(elements[-4])"
   ]
  },
  {
   "cell_type": "code",
   "execution_count": null,
   "id": "94fdeb54-e2c7-428f-96fe-57fb22bfe279",
   "metadata": {},
   "outputs": [],
   "source": [
    "Exercise 4 (How many ones) ☻\n",
    "\n",
    "Use the concepts you learned in this chapter to determine the number of 1’s in the following list of numbers.\n",
    "\n",
    "numbers=[45, 60, 1, 30, 96, 1, 96, 57, 16, 1,\n",
    "        99, 62, 86, 43, 42, 60, 59, 1, 1, 35,\n",
    "        83, 47, 34, 28, 68, 23, 22, 92, 1, 79,\n",
    "        1, 29, 94, 72, 46, 47, 1, 74, 32, 20,\n",
    "        8, 37, 35, 1, 89, 29, 86, 19, 43, 61]                  \n",
    "\n",
    "Here are some hints:\n",
    "\n",
    "    Use a NumPy array.\n",
    "    Ask a question.\n",
    "    False is considered 0, and True is considered 1 by sum().\n"
   ]
  },
  {
   "cell_type": "code",
   "execution_count": 7,
   "id": "f0959c50-9898-4ee8-96d1-c6e3f07692fc",
   "metadata": {},
   "outputs": [
    {
     "data": {
      "text/plain": [
       "np.int64(9)"
      ]
     },
     "execution_count": 7,
     "metadata": {},
     "output_type": "execute_result"
    }
   ],
   "source": [
    "import numpy as np\n",
    "numbers=[45, 60, 1, 30, 96, 1, 96, 57, 16, 1,\n",
    "        99, 62, 86, 43, 42, 60, 59, 1, 1, 35,\n",
    "        83, 47, 34, 28, 68, 23, 22, 92, 1, 79,\n",
    "        1, 29, 94, 72, 46, 47, 1, 74, 32, 20,\n",
    "        8, 37, 35, 1, 89, 29, 86, 19, 43, 61] \n",
    "numbers_array=np.array(numbers)\n",
    "sum(numbers_array == 1)"
   ]
  },
  {
   "cell_type": "code",
   "execution_count": null,
   "id": "a68e2285-8973-4e94-b6f4-691993dd6f01",
   "metadata": {},
   "outputs": [],
   "source": [
    "Exercise 5 (A Matter of Statistics) The following shows the data related to X1 and X2 and\n",
    "\n",
    ".\n",
    "\n",
    "x_1 = [1, 4, 9, 16, 25, 36, 49, 64, 81, 100]\n",
    "x_2 = [1, 8, 27, 64, 125, 216, 343, 512, 729, 1000]\n",
    "\n",
    "Using NumPy:\n",
    "\n",
    "    Determine the means of \n",
    "\n",
    "and\n",
    ".\n",
    "Determine the standard deviations of\n",
    "and\n",
    ".\n",
    "Determine the Pearson correlation coefficient\n",
    "\n",
    "    for the two datasets. Don’t use np.corrcoef()!\n",
    "    Compare your results to np.corrcoef().\n",
    "\n",
    "HINTS: np.mean(), np.std(), np.sum(), np.sqrt()\n",
    "\n",
    "np.mean(x_1)\n",
    "np.mean(x_2)\n",
    "np.std(x_1)\n",
    "np.std(x_2)\n",
    "#sample size is 10"
   ]
  },
  {
   "cell_type": "code",
   "execution_count": 17,
   "id": "9376657f-42c9-409a-bd44-50632ca6aa5f",
   "metadata": {},
   "outputs": [
    {
     "name": "stdout",
     "output_type": "stream",
     "text": [
      "0.9871796626270701\n",
      "[[1.         0.98717966]\n",
      " [0.98717966 1.        ]]\n"
     ]
    }
   ],
   "source": [
    "x_1 = [1, 4, 9, 16, 25, 36, 49, 64, 81, 100]\n",
    "x_2 = [1, 8, 27, 64, 125, 216, 343, 512, 729, 1000]\n",
    "x1m=np.mean(x_1)\n",
    "x2m=np.mean(x_2)\n",
    "x1std=np.std(x_1)\n",
    "x2std=np.std(x_2)\n",
    "pearson=sum((x_1-x1m)*(x_2-x2m))/(((np.sqrt(sum((x_1-x1m)**2)))*(np.sqrt((sum((x_2-x2m)**2))))))\n",
    "print(pearson)\n",
    "print(np.corrcoef(x_1,x_2))"
   ]
  }
 ],
 "metadata": {
  "kernelspec": {
   "display_name": "Python 3 (ipykernel)",
   "language": "python",
   "name": "python3"
  },
  "language_info": {
   "codemirror_mode": {
    "name": "ipython",
    "version": 3
   },
   "file_extension": ".py",
   "mimetype": "text/x-python",
   "name": "python",
   "nbconvert_exporter": "python",
   "pygments_lexer": "ipython3",
   "version": "3.12.3"
  },
  "toc": {
   "base_numbering": 1,
   "nav_menu": {},
   "number_sections": true,
   "sideBar": true,
   "skip_h1_title": false,
   "title_cell": "Table of Contents",
   "title_sidebar": "Contents",
   "toc_cell": false,
   "toc_position": {},
   "toc_section_display": true,
   "toc_window_display": false
  },
  "vscode": {
   "interpreter": {
    "hash": "31f2aee4e71d21fbe5cf8b01ff0e069b9275f58929596ceb00d14d90e3e16cd6"
   }
  }
 },
 "nbformat": 4,
 "nbformat_minor": 5
}
