{
 "cells": [
  {
   "attachments": {},
   "cell_type": "markdown",
   "id": "123456",
   "metadata": {},
   "source": [
    "<div style=\"text-align:left;font-size:2em\"><span style=\"font-weight:bolder;font-size:1.25em\">SP2273 | Learning Portfolio</span><br><br><span style=\"font-weight:bold;color:darkred\">Functions (Good) Exercises</span></div>"
   ]
  },
  {
   "cell_type": "markdown",
   "id": "9b4c35f4-7ed4-4bd3-bbbc-f62ef40d7b36",
   "metadata": {},
   "source": [
    "\n",
    "\n",
    "Exercise 1 (Celsius to Fahrenheit or Kelvin) ☻\n",
    "\n",
    "    Develop a function named convert_celsius() to convert temperatures from Celsius to either Fahrenheit or Kelvin.\n",
    "    The function should take two arguments:\n",
    "        temperature_celsius: The temperature in Celsius.\n",
    "        target_scale (string): The target scale for conversion, with the default value set to 'Fahrenheit'.\n",
    "    The function should return the temperature in Kelvin if target_scale is 'Kelvin'; otherwise, it should return the temperature in Fahrenheit.\n",
    "\n"
   ]
  },
  {
   "cell_type": "code",
   "execution_count": 12,
   "id": "5458e3bc-a123-4a04-a8d1-464e07a5f577",
   "metadata": {},
   "outputs": [
    {
     "data": {
      "text/plain": [
       "39.2"
      ]
     },
     "execution_count": 12,
     "metadata": {},
     "output_type": "execute_result"
    }
   ],
   "source": [
    "def convert_celsius(temperature_celsius,target_scale= 'Farenheit'):\n",
    "    temp=0\n",
    "    if target_scale == 'Kelvin':\n",
    "        temp = temperature_celsius + 273.15\n",
    "        return temp\n",
    "    else :\n",
    "        temp = (temperature_celsius * (9/5)) + 32\n",
    "        return temp\n",
    "    \n",
    "convert_celsius(4)"
   ]
  },
  {
   "cell_type": "markdown",
   "id": "bf00aa2e-6dfa-4258-ae02-b9ec049b2813",
   "metadata": {},
   "source": [
    "\n",
    "\n",
    "Exercise 2 (Fahrenheit to Celsius or Kelvin) ☻\n",
    "\n",
    "    Develop a function called convert_fahrenheit() for converting temperatures from Fahrenheit to either Celsius or Kelvin.\n",
    "    The function should take two arguments:\n",
    "        temperature_fahrenheit: The temperature in Fahrenheit.\n",
    "        target_scale (string): The target scale for conversion, defaulting to 'Celsius'.\n",
    "    The function should return the temperature in Kelvin if target_scale is 'Kelvin'; otherwise, return it in Celsius.\n",
    "\n"
   ]
  },
  {
   "cell_type": "code",
   "execution_count": 13,
   "id": "a3889043-92ae-4113-b656-9057863fa6f7",
   "metadata": {},
   "outputs": [
    {
     "data": {
      "text/plain": [
       "-15.555555555555557"
      ]
     },
     "execution_count": 13,
     "metadata": {},
     "output_type": "execute_result"
    }
   ],
   "source": [
    "def convert_farenheit(temperature_farenheit,target_scale= 'Celsius'):\n",
    "    temp=0\n",
    "    if target_scale == 'Kelvin':\n",
    "        temp = (temperature_farenheit + 459.67) * (5/9)\n",
    "        return temp\n",
    "    else :\n",
    "        temp = (temperature_farenheit-32) * (5/9)\n",
    "        return temp\n",
    "    \n",
    "convert_farenheit(4)"
   ]
  },
  {
   "cell_type": "markdown",
   "id": "7d05375d-5375-4126-875c-28cb9f2dce3f",
   "metadata": {},
   "source": [
    "\n",
    "\n",
    "Exercise 3 (General Temperature Conversion) ☻\n",
    "\n",
    "    Implement a function named convert_temperature() to perform general temperature conversions.\n",
    "    The function should take three arguments:\n",
    "        temperature: The temperature to be converted.\n",
    "        source_scale (string): The scale of the input temperature (either 'Celsius', 'Fahrenheit', or 'Kelvin').\n",
    "        target_scale (string): The desired scale for the output temperature.\n",
    "    Remember to reuse your previous functions!\n",
    "\n"
   ]
  },
  {
   "cell_type": "code",
   "execution_count": 21,
   "id": "da14d9d7-557a-417d-80a4-edc191c11051",
   "metadata": {},
   "outputs": [
    {
     "name": "stdout",
     "output_type": "stream",
     "text": [
      "26.850000000000023\n"
     ]
    }
   ],
   "source": [
    "def convert_temperature(temperature, source_scale, target_scale):\n",
    "    if source_scale == 'Celsius':\n",
    "        return convert_celsius(temperature, target_scale)\n",
    "    elif source_scale =='Farenheit':\n",
    "        return convert_farenheit(temperature,target_scale)\n",
    "    elif source_scale == 'Kelvin' :\n",
    "        if target_scale == 'Celsius':\n",
    "            temp = temperature - 273.15\n",
    "            print(temp)\n",
    "        if target_scale == 'Farenheit':\n",
    "            temp = 1.8 * (temperature - 273.15) + 32\n",
    "            return temp\n",
    "            \n",
    "convert_temperature(300, 'Kelvin', 'Celsius')\n"
   ]
  }
 ],
 "metadata": {
  "kernelspec": {
   "display_name": "Python 3 (ipykernel)",
   "language": "python",
   "name": "python3"
  },
  "language_info": {
   "codemirror_mode": {
    "name": "ipython",
    "version": 3
   },
   "file_extension": ".py",
   "mimetype": "text/x-python",
   "name": "python",
   "nbconvert_exporter": "python",
   "pygments_lexer": "ipython3",
   "version": "3.12.3"
  },
  "toc": {
   "base_numbering": 1,
   "nav_menu": {},
   "number_sections": true,
   "sideBar": true,
   "skip_h1_title": false,
   "title_cell": "Table of Contents",
   "title_sidebar": "Contents",
   "toc_cell": false,
   "toc_position": {},
   "toc_section_display": true,
   "toc_window_display": false
  },
  "vscode": {
   "interpreter": {
    "hash": "31f2aee4e71d21fbe5cf8b01ff0e069b9275f58929596ceb00d14d90e3e16cd6"
   }
  }
 },
 "nbformat": 4,
 "nbformat_minor": 5
}
