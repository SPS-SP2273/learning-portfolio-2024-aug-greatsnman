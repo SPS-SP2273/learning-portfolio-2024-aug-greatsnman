{
 "cells": [
  {
   "attachments": {},
   "cell_type": "markdown",
   "id": "123456",
   "metadata": {},
   "source": [
    "<div style=\"text-align:left;font-size:2em\"><span style=\"font-weight:bolder;font-size:1.25em\">SP2273 | Learning Portfolio</span><br><br><span style=\"font-weight:bold;color:darkred\">Functions (Need) Exercises</span></div>"
   ]
  },
  {
   "cell_type": "markdown",
   "id": "7cc2520d-84a5-4858-bef3-c680b9af2468",
   "metadata": {},
   "source": [
    "Exercise 1 (Do you know why?) ☻\n",
    "\n",
    "The following code works as expected despite not having an else statement. Please use a Markdown cell to explain why?\n",
    "\n",
    "def greeting(name):\n",
    "    if name == 'Batman':\n",
    "        return 'Hello Batman! So, nice to meet you!'\n",
    "    return f'Hello {name}!'"
   ]
  },
  {
   "cell_type": "markdown",
   "id": "6c317041-32ab-4b01-9629-3c3adb29be52",
   "metadata": {},
   "source": [
    "Answer: The code works because there is a return statement that is executed at the end of function. If the 'if' statement in the function isn't executed as the input doesnt match the code executes the last line which is the return statement which exitst the function and returns a value"
   ]
  },
  {
   "cell_type": "markdown",
   "id": "56fc5917-4f50-49bf-b642-4a51bda62861",
   "metadata": {},
   "source": [
    "Exercise 2 (Chubby or not) ☻\n",
    "\n",
    "Write a Python function named calculate_bmi.\n",
    "\n",
    "    The function should take two parameters:\n",
    "    weight (in kilograms) and height (in meters).\n",
    "    The function should calculate the BMI (Body Mass Index) using the formula BMI = weight / (height ** 2).\n",
    "    Based on the calculated BMI, the function should return a string indicating the BMI category based on the following criteria:\n",
    "\n",
    "Category \tBMI Range\n",
    "Underweight \tBMI less than 18.5\n",
    "Normal weight \tBMI between 18.5 and 24.9\n",
    "Overweight \tBMI between 25 and 29.9\n",
    "Obese \tBMI 30 or more"
   ]
  },
  {
   "cell_type": "code",
   "execution_count": 28,
   "id": "11594576-f5f4-4ce1-864f-993085f387d7",
   "metadata": {},
   "outputs": [],
   "source": [
    "def calculate_bmi(weight,height):\n",
    "    if height<=0 or weight<=0:\n",
    "        return(\" Error cannot have height and/or weight be negative or 0\")\n",
    "    BMI= weight/ (height*height)\n",
    "    if BMI<18.5 :\n",
    "       return (\"BMI Category is Underweight\")\n",
    "    elif BMI<=24.9:\n",
    "        return (\"BMI Category is Normal\")\n",
    "    elif BMI<=29.9:\n",
    "        return (\"BMI Category is Overweight\")\n",
    "    elif BMI>=30:\n",
    "        return(\"BMI Category is Obese\")"
   ]
  },
  {
   "cell_type": "code",
   "execution_count": 29,
   "id": "4002f7d3-e339-4dd3-b2e7-47dee4e2694c",
   "metadata": {},
   "outputs": [
    {
     "data": {
      "text/plain": [
       "' Error cannot have height and/or weight be negative or 0'"
      ]
     },
     "execution_count": 29,
     "metadata": {},
     "output_type": "execute_result"
    }
   ],
   "source": [
    "calculate_bmi(0,12321)"
   ]
  },
  {
   "cell_type": "markdown",
   "id": "9ec9a108-1154-478d-abfe-6ae36f1c2612",
   "metadata": {},
   "source": [
    "Exercise 3 (Factorials) Write a function that accepts an integer n and returns its factorial. Ensure that your function gracefully handles negative numbers."
   ]
  },
  {
   "cell_type": "code",
   "execution_count": 30,
   "id": "be03a049-3b44-450f-b41d-5992ee889098",
   "metadata": {},
   "outputs": [],
   "source": [
    "def factorial(nint):\n",
    "    if nint<0:\n",
    "        return 'Error, Input was Negative Number'\n",
    "    y=1\n",
    "    for i in range(nint,0,-1):\n",
    "        y *= i\n",
    "    return y\n",
    "    \n",
    "# return will give the result and then exit the funcion while print will continue the function and we want to kill the fucntion for a negative input\n",
    "# as you cannot have a negative factorial by defitnition"
   ]
  },
  {
   "cell_type": "code",
   "execution_count": 71,
   "id": "14c1c49a-a44e-41ab-9717-5135ac0b4a27",
   "metadata": {},
   "outputs": [
    {
     "data": {
      "text/plain": [
       "720"
      ]
     },
     "execution_count": 71,
     "metadata": {},
     "output_type": "execute_result"
    }
   ],
   "source": [
    "factorial(6)"
   ]
  }
 ],
 "metadata": {
  "kernelspec": {
   "display_name": "Python 3 (ipykernel)",
   "language": "python",
   "name": "python3"
  },
  "language_info": {
   "codemirror_mode": {
    "name": "ipython",
    "version": 3
   },
   "file_extension": ".py",
   "mimetype": "text/x-python",
   "name": "python",
   "nbconvert_exporter": "python",
   "pygments_lexer": "ipython3",
   "version": "3.12.3"
  },
  "toc": {
   "base_numbering": 1,
   "nav_menu": {},
   "number_sections": true,
   "sideBar": true,
   "skip_h1_title": false,
   "title_cell": "Table of Contents",
   "title_sidebar": "Contents",
   "toc_cell": false,
   "toc_position": {},
   "toc_section_display": true,
   "toc_window_display": false
  },
  "vscode": {
   "interpreter": {
    "hash": "31f2aee4e71d21fbe5cf8b01ff0e069b9275f58929596ceb00d14d90e3e16cd6"
   }
  }
 },
 "nbformat": 4,
 "nbformat_minor": 5
}
