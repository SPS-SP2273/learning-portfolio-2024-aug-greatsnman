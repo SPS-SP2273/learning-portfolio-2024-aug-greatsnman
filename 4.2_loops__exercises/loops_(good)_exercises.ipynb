{
 "cells": [
  {
   "attachments": {},
   "cell_type": "markdown",
   "id": "123456",
   "metadata": {},
   "source": [
    "<div style=\"text-align:left;font-size:2em\"><span style=\"font-weight:bolder;font-size:1.25em\">SP2273 | Learning Portfolio</span><br><br><span style=\"font-weight:bold;color:darkred\">Loops (Good) Exercises</span></div>"
   ]
  },
  {
   "cell_type": "markdown",
   "id": "75b7b64f-643d-4e7e-b56c-ac5c556d2f4a",
   "metadata": {},
   "source": [
    "\n",
    "\n",
    "Exercise 1 (Make me an odd list) ☻\n",
    "\n",
    "With your knowledge of growing lists, use a for loop with range() and continue to generate a list of the squares of the odd integers from 0 to 9.\n",
    "\n",
    "Hint: You can check for ‘evenness’ using number % 2 == 0.\n"
   ]
  },
  {
   "cell_type": "code",
   "execution_count": 27,
   "id": "638c8e30-e124-4732-be8c-c5dc7356c278",
   "metadata": {},
   "outputs": [
    {
     "name": "stdout",
     "output_type": "stream",
     "text": [
      "[1, 9, 25, 49, 81]\n"
     ]
    }
   ],
   "source": [
    "x=0\n",
    "odd_list = []\n",
    "for i in range(0,10):\n",
    "    if i % 2 != 0:\n",
    "        odd_list.append(i**2)\n",
    "\n",
    "print (odd_list)"
   ]
  },
  {
   "cell_type": "markdown",
   "id": "2c3ff9de-639c-4c1c-b143-35f14d99a9ba",
   "metadata": {},
   "source": [
    "\n",
    "\n",
    "Exercise 2 (Make me another odd list) ☻\n",
    "\n",
    "Redo the previous exercise using list comprehension.\n"
   ]
  },
  {
   "cell_type": "code",
   "execution_count": 29,
   "id": "51e2fe6b-cf84-4bdf-a4be-3e064eefd1f5",
   "metadata": {},
   "outputs": [
    {
     "name": "stdout",
     "output_type": "stream",
     "text": [
      "[1, 9, 25, 49, 81]\n"
     ]
    }
   ],
   "source": [
    "x=0\n",
    "odd_list = [0,1,2,3,4,5,6,7,8,9]\n",
    "square_list=[]\n",
    "for i in odd_list:\n",
    "    if i % 2 != 0:\n",
    "        square_list.append(i**2)\n",
    "        \n",
    "print (square_list)"
   ]
  },
  {
   "cell_type": "markdown",
   "id": "b8455938-22c7-4dbd-aefd-bbb79c5b5370",
   "metadata": {},
   "source": [
    "\n",
    "\n",
    "Exercise 3 (Time me!) ☻\n",
    "\n",
    "Use the cell magic command %%timeit to time the previous solutions. Which of the two is faster?\n",
    "Ans: The odd number square list is faster\n"
   ]
  },
  {
   "cell_type": "code",
   "execution_count": 30,
   "id": "796db8f3-c56a-4975-8bde-524657046ad8",
   "metadata": {},
   "outputs": [
    {
     "name": "stdout",
     "output_type": "stream",
     "text": [
      "2.97 μs ± 115 ns per loop (mean ± std. dev. of 7 runs, 100,000 loops each)\n"
     ]
    }
   ],
   "source": [
    "%%timeit\n",
    "x=0\n",
    "odd_list = []\n",
    "for i in range(0,10):\n",
    "    if i % 2 != 0:\n",
    "        odd_list.append(i**2)"
   ]
  },
  {
   "cell_type": "code",
   "execution_count": 32,
   "id": "1de3bd80-7047-47dd-b603-12a986bd0ba3",
   "metadata": {},
   "outputs": [
    {
     "name": "stdout",
     "output_type": "stream",
     "text": [
      "2.79 μs ± 78 ns per loop (mean ± std. dev. of 7 runs, 100,000 loops each)\n"
     ]
    }
   ],
   "source": [
    "%%timeit\n",
    "x=0\n",
    "odd_list = [0,1,2,3,4,5,6,7,8,9]\n",
    "square_list=[]\n",
    "for i in odd_list:\n",
    "    if i % 2 != 0:\n",
    "        square_list.append(i**2)"
   ]
  },
  {
   "cell_type": "markdown",
   "id": "0da16c82-b570-4e5c-a52b-d0c65b6594f1",
   "metadata": {},
   "source": [
    "The second solution using list comprehension is faster"
   ]
  },
  {
   "cell_type": "markdown",
   "id": "f6d5ae77-235b-44d1-bf94-f3df8692858f",
   "metadata": {},
   "source": [
    "\n",
    "\n",
    "Exercise 4 (A problem of decay) ☻\n",
    "\n",
    "The initial quantity of a sample of a radioactive substance is 100 units, and it decays by 5% each year. Use a while loop to determine how long the sample will take to reduce to half its original amount.\n"
   ]
  },
  {
   "cell_type": "code",
   "execution_count": 34,
   "id": "c4f42df3-b56f-4076-aa47-e93b8a851f27",
   "metadata": {},
   "outputs": [
    {
     "name": "stdout",
     "output_type": "stream",
     "text": [
      "14\n"
     ]
    }
   ],
   "source": [
    "x = 100\n",
    "y=0\n",
    "while x >= 50:\n",
    "    y+=1\n",
    "    x= 0.95*x\n",
    "print(y)"
   ]
  },
  {
   "cell_type": "markdown",
   "id": "53595a09-7f21-4f43-b7bc-ae05e5a85c0d",
   "metadata": {},
   "source": [
    "Exercise 5 (Changes in CO\n",
    "\n",
    ") ☻\n",
    "\n",
    "The following is data about atmospheric CO\n",
    "\n",
    "levels for several years in a (year, CO2_level) format. The units are ppm.\n",
    "\n",
    "co2_data = [\n",
    "    (2000, 369.55), (2001, 371.14), (2002, 373.28), \n",
    "    (2003, 375.80), (2004, 377.52), (2005, 379.80), \n",
    "    (2006, 381.90), (2007, 383.79), (2008, 385.60), \n",
    "    (2009, 387.43), (2010, 389.90), (2011, 391.65), \n",
    "    (2012, 393.85), (2013, 396.52), (2014, 398.65),\n",
    "    (2015, 400.83), (2016, 404.24), (2017, 406.55), \n",
    "    (2018, 408.52), (2019, 411.44), (2020, 414.24)\n",
    "]\n",
    "\n",
    "Identify those years that showed an increase of CO\n",
    "of 3 ppm or more compared to the previous year.\n",
    "Please print out these years along with the corresponding change in concentration."
   ]
  },
  {
   "cell_type": "code",
   "execution_count": 64,
   "id": "1b2c1423-3d1e-4d80-a968-db69da8b6316",
   "metadata": {},
   "outputs": [
    {
     "name": "stdout",
     "output_type": "stream",
     "text": [
      "[2016, 3.410000000000025]\n"
     ]
    }
   ],
   "source": [
    "co2_data = [\n",
    "    (2000, 369.55), (2001, 371.14), (2002, 373.28), \n",
    "    (2003, 375.80), (2004, 377.52), (2005, 379.80), \n",
    "    (2006, 381.90), (2007, 383.79), (2008, 385.60), \n",
    "    (2009, 387.43), (2010, 389.90), (2011, 391.65), \n",
    "    (2012, 393.85), (2013, 396.52), (2014, 398.65),\n",
    "    (2015, 400.83), (2016, 404.24), (2017, 406.55), \n",
    "    (2018, 408.52), (2019, 411.44), (2020, 414.24)\n",
    "]\n",
    "years =[]\n",
    "type(co2_data[1][0])\n",
    "for i in range(1,len(co2_data)):\n",
    "    if (co2_data[i][1] - co2_data[i-1][1]) >3 :\n",
    "        years.append(co2_data[i][0])\n",
    "        years.append(co2_data[i][1] - co2_data[i-1][1])\n",
    "print(years)\n"
   ]
  }
 ],
 "metadata": {
  "kernelspec": {
   "display_name": "Python 3 (ipykernel)",
   "language": "python",
   "name": "python3"
  },
  "language_info": {
   "codemirror_mode": {
    "name": "ipython",
    "version": 3
   },
   "file_extension": ".py",
   "mimetype": "text/x-python",
   "name": "python",
   "nbconvert_exporter": "python",
   "pygments_lexer": "ipython3",
   "version": "3.12.3"
  },
  "toc": {
   "base_numbering": 1,
   "nav_menu": {},
   "number_sections": true,
   "sideBar": true,
   "skip_h1_title": false,
   "title_cell": "Table of Contents",
   "title_sidebar": "Contents",
   "toc_cell": false,
   "toc_position": {},
   "toc_section_display": true,
   "toc_window_display": false
  },
  "vscode": {
   "interpreter": {
    "hash": "31f2aee4e71d21fbe5cf8b01ff0e069b9275f58929596ceb00d14d90e3e16cd6"
   }
  }
 },
 "nbformat": 4,
 "nbformat_minor": 5
}
