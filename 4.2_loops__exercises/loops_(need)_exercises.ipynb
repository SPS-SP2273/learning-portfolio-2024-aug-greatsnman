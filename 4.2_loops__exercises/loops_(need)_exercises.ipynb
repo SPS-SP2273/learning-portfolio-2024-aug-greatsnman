{
 "cells": [
  {
   "attachments": {},
   "cell_type": "markdown",
   "id": "123456",
   "metadata": {},
   "source": [
    "<div style=\"text-align:left;font-size:2em\"><span style=\"font-weight:bolder;font-size:1.25em\">SP2273 | Learning Portfolio</span><br><br><span style=\"font-weight:bold;color:darkred\">Loops (Need) Exercises</span></div>"
   ]
  },
  {
   "cell_type": "code",
   "execution_count": 3,
   "id": "43d3bfbf-c019-48ab-88de-42b1fa06ff2c",
   "metadata": {},
   "outputs": [
    {
     "name": "stdout",
     "output_type": "stream",
     "text": [
      "0 1\n",
      "1 2\n",
      "2 3\n",
      "3 4\n",
      "4 5\n",
      "5 6\n"
     ]
    }
   ],
   "source": [
    "numblist= [1,2,3,4,5,6]\n",
    "for count,numan in enumerate(numblist):\n",
    "    print( count,numan)"
   ]
  },
  {
   "cell_type": "code",
   "execution_count": 4,
   "id": "49272cfd-54d6-4353-a7da-ffe55ab0d210",
   "metadata": {},
   "outputs": [
    {
     "name": "stdout",
     "output_type": "stream",
     "text": [
      "0 a\n",
      "1 b\n",
      "2 c\n",
      "3 d\n",
      "4 e\n",
      "5 f\n"
     ]
    }
   ],
   "source": [
    "numblist= ['a','b','c','d','e','f']\n",
    "for count,numan in enumerate(numblist):\n",
    "    print( count,numan)"
   ]
  },
  {
   "cell_type": "code",
   "execution_count": 6,
   "id": "1cb2c2ee-d376-4e47-a268-436cd5beb482",
   "metadata": {},
   "outputs": [
    {
     "name": "stdout",
     "output_type": "stream",
     "text": [
      "a\n",
      "b\n",
      "c\n",
      "d\n",
      "e\n",
      "f\n"
     ]
    }
   ],
   "source": [
    "x=10\n",
    "for i in numblist:\n",
    "    print(i)"
   ]
  },
  {
   "cell_type": "markdown",
   "id": "a58c5274-c704-44bf-a453-fc1a21c185dd",
   "metadata": {},
   "source": [
    "Exercise 1 (Celsius to Fahrenheit) ☻\n",
    "\n",
    "You are provided with the following list of temperatures in Celsius. Write a quick Python snippet that converts each temperature to Fahrenheit and prints both temperatures as a Celsius, Fahrenheit pair.\n",
    "\n",
    "temperatures_celsius = [\n",
    "    0, 5, 10, 15, 20, 25,\n",
    "    30, 35, 40, 45, 50\n",
    "]"
   ]
  },
  {
   "cell_type": "code",
   "execution_count": 96,
   "id": "6aee95b4-7538-446f-9c16-df87a630a9a7",
   "metadata": {},
   "outputs": [
    {
     "name": "stdout",
     "output_type": "stream",
     "text": [
      "temperature is in celsius: 0 in farenheit: 32.0\n",
      "temperature is in celsius: 5 in farenheit: 41.0\n",
      "temperature is in celsius: 10 in farenheit: 50.0\n",
      "temperature is in celsius: 15 in farenheit: 59.0\n",
      "temperature is in celsius: 20 in farenheit: 68.0\n",
      "temperature is in celsius: 25 in farenheit: 77.0\n",
      "temperature is in celsius: 30 in farenheit: 86.0\n",
      "temperature is in celsius: 35 in farenheit: 95.0\n",
      "temperature is in celsius: 40 in farenheit: 104.0\n",
      "temperature is in celsius: 45 in farenheit: 113.0\n",
      "temperature is in celsius: 50 in farenheit: 122.0\n"
     ]
    }
   ],
   "source": [
    "import numpy as np\n",
    "temperature= []\n",
    "temperatures_celsius = [\n",
    "    0, 5, 10, 15, 20, 25,\n",
    "    30, 35, 40, 45, 50\n",
    "]\n",
    "for i,celsius in enumerate(temperatures_celsius):\n",
    "    faren= celsius * (9/5)+32\n",
    "    temperature.append([celsius,faren])\n",
    "\n",
    "for h in range(0,len(temperature)):\n",
    "    print(f'temperature is in celsius: {(temperature[h][0])} in farenheit: {(temperature [h][1])}' )\n",
    "  "
   ]
  },
  {
   "cell_type": "code",
   "execution_count": 1,
   "id": "dd6a0e80-79fe-4345-9eb3-7f362ce60220",
   "metadata": {},
   "outputs": [
    {
     "name": "stdout",
     "output_type": "stream",
     "text": [
      "A1\tA2\tA3\t\n",
      "\n",
      "B1\tB2\tB3\t\n",
      "\n",
      "C1\tC2\tC3\t\n",
      "\n"
     ]
    }
   ],
   "source": [
    "for letter in ['A', 'B', 'C']:\n",
    "    for number in [1, 2, 3]:\n",
    "        print(f'{letter}{number}', end='\\t')\n",
    "    print('\\n')"
   ]
  },
  {
   "cell_type": "markdown",
   "id": "b4a3ea68-fffa-4a62-a0fa-83314de0a23e",
   "metadata": {},
   "source": [
    "exercise 2\n",
    "Task 4\n",
    "Write a Python snippet that prints a multiplication table (up to 5) for numbers 1 through 5 using nested for loops. The output should be formatted as shown below:\n",
    "\n",
    "1 : 1   2   3   4   5   \n",
    "2 : 2   4   6   8   10  \n",
    "3 : 3   6   9   12  15  \n",
    "4 : 4   8   12  16  20  \n",
    "5 : 5   10  15  20  25  \n",
    "\n"
   ]
  },
  {
   "cell_type": "code",
   "execution_count": 84,
   "id": "d43a6331-2810-4e10-b9d1-49cd0071c5b1",
   "metadata": {},
   "outputs": [
    {
     "name": "stdout",
     "output_type": "stream",
     "text": [
      "1 : 1   2   3   4   5   \n",
      "2 : 2   4   6   8   10  \n",
      "3 : 3   6   9   12  15  \n",
      "4 : 4   8   12  16  20  \n",
      "5 : 5   10  15  20  25  \n"
     ]
    }
   ],
   "source": [
    "\n",
    "for i in range(1,6):\n",
    "    #print(str(x) +':'+ str(x))\n",
    "    print(f'{i} : ', end='')\n",
    "    for y in range(1,6):\n",
    "        y *= i\n",
    "        print(f'{y:<4}', end='')\n",
    "        #print (y)\n",
    "    print()"
   ]
  },
  {
   "cell_type": "code",
   "execution_count": 81,
   "id": "3bb35b68-4329-4612-8e11-e309834a1858",
   "metadata": {},
   "outputs": [
    {
     "name": "stdout",
     "output_type": "stream",
     "text": [
      "Help on built-in function print in module builtins:\n",
      "\n",
      "print(*args, sep=' ', end='\\n', file=None, flush=False)\n",
      "    Prints the values to a stream, or to sys.stdout by default.\n",
      "\n",
      "    sep\n",
      "      string inserted between values, default a space.\n",
      "    end\n",
      "      string appended after the last value, default a newline.\n",
      "    file\n",
      "      a file-like object (stream); defaults to the current sys.stdout.\n",
      "    flush\n",
      "      whether to forcibly flush the stream.\n",
      "\n"
     ]
    }
   ],
   "source": [
    "help(print)"
   ]
  },
  {
   "cell_type": "code",
   "execution_count": 40,
   "id": "a4975ed2-e338-43ea-aeb9-82324a7ab360",
   "metadata": {},
   "outputs": [
    {
     "data": {
      "text/plain": [
       "array([0.80188184, 0.88096795, 0.51961749, 0.22732465, 0.26455994,\n",
       "       0.39621109, 0.73918724, 0.1990565 , 0.924033  , 0.42214118])"
      ]
     },
     "execution_count": 40,
     "metadata": {},
     "output_type": "execute_result"
    }
   ],
   "source": [
    "import numpy as np\n",
    "np.random.rand(10)"
   ]
  },
  {
   "cell_type": "markdown",
   "id": "44d0f98f-de8f-4483-a27c-3d9a9208ee30",
   "metadata": {},
   "source": [
    "\n",
    "Exercise 3\n",
    "Using a for loop, run this experiment 10 times and, for each iteration, print out the number of heads.\n",
    "\n",
    "Your results should look something like:\n",
    "\n",
    "Experiment  1: No. of Heads = 4\n",
    "Experiment  2: No. of Heads = 2\n",
    "Experiment  3: No. of Heads = 8\n",
    "Experiment  4: No. of Heads = 5\n",
    "Experiment  5: No. of Heads = 8\n",
    "Experiment  6: No. of Heads = 5\n",
    "Experiment  7: No. of Heads = 4\n",
    "Experiment  8: No. of Heads = 6\n",
    "Experiment  9: No. of Heads = 2\n",
    "Experiment 10: No. of Heads = 4\n",
    "\n",
    "Note that your numbers will not be the same as mine, because the numbers are meant to be random!\n"
   ]
  },
  {
   "cell_type": "code",
   "execution_count": 98,
   "id": "31e950cd-2deb-4670-98a0-4bf7875d869c",
   "metadata": {},
   "outputs": [
    {
     "name": "stdout",
     "output_type": "stream",
     "text": [
      "Experiment  1: No.of Heads =  4\n",
      "Experiment  2: No.of Heads =  7\n",
      "Experiment  3: No.of Heads =  8\n",
      "Experiment  4: No.of Heads =  5\n",
      "Experiment  5: No.of Heads =  6\n",
      "Experiment  6: No.of Heads =  6\n",
      "Experiment  7: No.of Heads =  5\n",
      "Experiment  8: No.of Heads =  6\n",
      "Experiment  9: No.of Heads =  8\n",
      "Experiment 10: No.of Heads =  6\n"
     ]
    }
   ],
   "source": [
    "import math as meth\n",
    "for i in range (1,11):\n",
    "    h=1\n",
    "    x=np.random.rand(10)\n",
    "    for head in x:\n",
    "        if head > 0.5:\n",
    "            h+=1\n",
    "    print (f'Experiment {i:>2}: No.of Heads = {h:>2}')"
   ]
  }
 ],
 "metadata": {
  "kernelspec": {
   "display_name": "Python 3 (ipykernel)",
   "language": "python",
   "name": "python3"
  },
  "language_info": {
   "codemirror_mode": {
    "name": "ipython",
    "version": 3
   },
   "file_extension": ".py",
   "mimetype": "text/x-python",
   "name": "python",
   "nbconvert_exporter": "python",
   "pygments_lexer": "ipython3",
   "version": "3.12.3"
  },
  "toc": {
   "base_numbering": 1,
   "nav_menu": {},
   "number_sections": true,
   "sideBar": true,
   "skip_h1_title": false,
   "title_cell": "Table of Contents",
   "title_sidebar": "Contents",
   "toc_cell": false,
   "toc_position": {},
   "toc_section_display": true,
   "toc_window_display": false
  },
  "vscode": {
   "interpreter": {
    "hash": "31f2aee4e71d21fbe5cf8b01ff0e069b9275f58929596ceb00d14d90e3e16cd6"
   }
  }
 },
 "nbformat": 4,
 "nbformat_minor": 5
}
